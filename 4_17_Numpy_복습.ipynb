{
  "nbformat": 4,
  "nbformat_minor": 0,
  "metadata": {
    "colab": {
      "provenance": [],
      "authorship_tag": "ABX9TyMdLzcGVy+UR/hBAmQRKhfC",
      "include_colab_link": true
    },
    "kernelspec": {
      "name": "python3",
      "display_name": "Python 3"
    },
    "language_info": {
      "name": "python"
    }
  },
  "cells": [
    {
      "cell_type": "markdown",
      "metadata": {
        "id": "view-in-github",
        "colab_type": "text"
      },
      "source": [
        "<a href=\"https://colab.research.google.com/github/GODHYEONJU/MS-AI-School-/blob/main/4_17_Numpy_%EB%B3%B5%EC%8A%B5.ipynb\" target=\"_parent\"><img src=\"https://colab.research.google.com/assets/colab-badge.svg\" alt=\"Open In Colab\"/></a>"
      ]
    },
    {
      "cell_type": "code",
      "execution_count": null,
      "metadata": {
        "id": "WL2Qki2fTeda"
      },
      "outputs": [],
      "source": [
        "import numpy as np"
      ]
    },
    {
      "cell_type": "code",
      "source": [
        "arr = np.array([1,2,3,4])\n",
        "#np는 list랑 비슷한 배열 형태, list와 다르게 하나의 요소들의 데이터 타입이 모두 동일!\n",
        "print(arr)\n",
        "print(type(arr)) #<class 'numpy.ndarray'> ndarray : n차원의 배열의 객체"
      ],
      "metadata": {
        "id": "W2L0aK0yTme9",
        "colab": {
          "base_uri": "https://localhost:8080/"
        },
        "outputId": "134ae524-75c2-4856-9a53-1dc1d90f62a9"
      },
      "execution_count": 3,
      "outputs": [
        {
          "output_type": "stream",
          "name": "stdout",
          "text": [
            "[1 2 3 4]\n",
            "<class 'numpy.ndarray'>\n"
          ]
        }
      ]
    },
    {
      "cell_type": "code",
      "source": [
        "ZeroCoke = np.zeros((3,3))\n",
        "print(ZeroCoke)"
      ],
      "metadata": {
        "colab": {
          "base_uri": "https://localhost:8080/"
        },
        "id": "OcXZ8hSlWx6Q",
        "outputId": "c165fb39-8789-4258-b34b-7724a1c80436"
      },
      "execution_count": 7,
      "outputs": [
        {
          "output_type": "stream",
          "name": "stdout",
          "text": [
            "[[0. 0. 0.]\n",
            " [0. 0. 0.]\n",
            " [0. 0. 0.]]\n"
          ]
        }
      ]
    },
    {
      "cell_type": "code",
      "source": [
        "OneCoke = np.ones((1,2)) #(행, 열)\n",
        "print(OneCoke)"
      ],
      "metadata": {
        "colab": {
          "base_uri": "https://localhost:8080/"
        },
        "id": "EfNRH7yaYb5h",
        "outputId": "661fab9a-1698-4e51-f82c-2992514bd494"
      },
      "execution_count": 11,
      "outputs": [
        {
          "output_type": "stream",
          "name": "stdout",
          "text": [
            "[[1. 1.]]\n"
          ]
        }
      ]
    },
    {
      "cell_type": "code",
      "source": [
        "np.empty((5,5))"
      ],
      "metadata": {
        "colab": {
          "base_uri": "https://localhost:8080/"
        },
        "id": "OhSjJeJXYvgA",
        "outputId": "77fc2c0e-9a3a-4bb9-f87e-915e12fafe2e"
      },
      "execution_count": 12,
      "outputs": [
        {
          "output_type": "execute_result",
          "data": {
            "text/plain": [
              "array([[ 2.02005577e-316,  0.00000000e+000,  0.00000000e+000,\n",
              "        -1.00000000e+000,  1.00000000e+000],\n",
              "       [-2.00000000e+000,  2.00000000e+000, -1.00000000e+000,\n",
              "         1.00000000e+000,  0.00000000e+000],\n",
              "       [ 2.00000000e+000,  1.00000000e+000,  1.00000000e+000,\n",
              "         2.00000000e+000,  0.00000000e+000],\n",
              "       [ 1.00000000e+000, -1.00000000e+000,  2.00000000e+000,\n",
              "        -2.00000000e+000,  1.00000000e+000],\n",
              "       [-1.00000000e+000,  0.00000000e+000, -2.00000000e+000,\n",
              "        -1.00000000e+000,  1.02765654e-321]])"
            ]
          },
          "metadata": {},
          "execution_count": 12
        }
      ]
    },
    {
      "cell_type": "code",
      "source": [
        "print(np.arange(1,10,3)) #숫자의 끝나는 값은 항상 끝값 전까지 포함함\n",
        "#(시작값, 끝값, 증가값)"
      ],
      "metadata": {
        "colab": {
          "base_uri": "https://localhost:8080/"
        },
        "id": "ZGYYS97RZC4D",
        "outputId": "4808de66-acd4-4f1c-d1cc-fc9a7c015610"
      },
      "execution_count": 13,
      "outputs": [
        {
          "output_type": "stream",
          "name": "stdout",
          "text": [
            "[1 4 7]\n"
          ]
        }
      ]
    },
    {
      "cell_type": "code",
      "source": [
        "arr = np.array(([1,2,3],[4,5,6]))\n",
        "print(arr)"
      ],
      "metadata": {
        "colab": {
          "base_uri": "https://localhost:8080/"
        },
        "id": "4cNFRa6yZSjF",
        "outputId": "59375522-c453-4051-91d9-20ad279adab9"
      },
      "execution_count": 15,
      "outputs": [
        {
          "output_type": "stream",
          "name": "stdout",
          "text": [
            "[[1 2 3]\n",
            " [4 5 6]]\n"
          ]
        }
      ]
    },
    {
      "cell_type": "code",
      "source": [
        " arr1 = np.array(((([1,2,3],[4,5,6],[7,8,9],[10,11,12]))))\n",
        " print(arr1)"
      ],
      "metadata": {
        "colab": {
          "base_uri": "https://localhost:8080/"
        },
        "id": "KjaN0W7PbUgU",
        "outputId": "4d148afc-afc7-4351-acef-8d4be80bd6ca"
      },
      "execution_count": 24,
      "outputs": [
        {
          "output_type": "stream",
          "name": "stdout",
          "text": [
            "[[ 1  2  3]\n",
            " [ 4  5  6]\n",
            " [ 7  8  9]\n",
            " [10 11 12]]\n"
          ]
        }
      ]
    },
    {
      "cell_type": "code",
      "source": [
        "arr2=arr[:2,1:3] #[시작행:마지막행, 시작열:마지막열]\n",
        "print(arr2)"
      ],
      "metadata": {
        "colab": {
          "base_uri": "https://localhost:8080/"
        },
        "id": "SYlUYmDjhzTJ",
        "outputId": "f7e3d1de-e5e5-433b-92ea-b374759c46df"
      },
      "execution_count": 27,
      "outputs": [
        {
          "output_type": "stream",
          "name": "stdout",
          "text": [
            "[[2 3]\n",
            " [5 6]]\n"
          ]
        }
      ]
    },
    {
      "cell_type": "code",
      "source": [
        "redwine=np.loadtxt(fname='winequality-red.csv',\n",
        "                   delimiter = ';',\n",
        "                   skiprows=1)\n",
        "print(redwine)"
      ],
      "metadata": {
        "colab": {
          "base_uri": "https://localhost:8080/"
        },
        "id": "nusSkg6eiaV7",
        "outputId": "0a828615-db43-45c0-e84d-0e20bfade7cb"
      },
      "execution_count": 28,
      "outputs": [
        {
          "output_type": "stream",
          "name": "stdout",
          "text": [
            "[[ 7.4    0.7    0.    ...  0.56   9.4    5.   ]\n",
            " [ 7.8    0.88   0.    ...  0.68   9.8    5.   ]\n",
            " [ 7.8    0.76   0.04  ...  0.65   9.8    5.   ]\n",
            " ...\n",
            " [ 6.3    0.51   0.13  ...  0.75  11.     6.   ]\n",
            " [ 5.9    0.645  0.12  ...  0.71  10.2    5.   ]\n",
            " [ 6.     0.31   0.47  ...  0.66  11.     6.   ]]\n"
          ]
        }
      ]
    },
    {
      "cell_type": "code",
      "source": [
        "print(redwine.sum())\n",
        "print(redwine.sum(axis=0)) #axis=0, 가로축/행\n",
        "print(redwine.sum(axis=1)) #axis=1, 세로축/열열\n",
        "print(redwine.mean(axis=0))"
      ],
      "metadata": {
        "colab": {
          "base_uri": "https://localhost:8080/"
        },
        "id": "xEOX2iKjnRGb",
        "outputId": "6e205465-777c-4ce7-fcec-17ea0823cc9e"
      },
      "execution_count": 35,
      "outputs": [
        {
          "output_type": "stream",
          "name": "stdout",
          "text": [
            "152084.78194\n",
            "[13303.1       843.985     433.29     4059.55      139.859   25384.\n",
            " 74302.       1593.79794  5294.47     1052.38    16666.35     9012.     ]\n",
            "[ 74.5438  123.0548   99.699   ... 100.48174 105.21547  92.49249]\n",
            "[ 8.31963727  0.52782051  0.27097561  2.5388055   0.08746654 15.87492183\n",
            " 46.46779237  0.99674668  3.3111132   0.65814884 10.42298311  5.63602251]\n"
          ]
        }
      ]
    },
    {
      "cell_type": "code",
      "source": [
        "print(redwine[:,0]) #영번축"
      ],
      "metadata": {
        "colab": {
          "base_uri": "https://localhost:8080/"
        },
        "id": "5bBXalMOp12U",
        "outputId": "4d15e938-93d3-4cc2-fcd4-11010fef7871"
      },
      "execution_count": 32,
      "outputs": [
        {
          "output_type": "stream",
          "name": "stdout",
          "text": [
            "[7.4 7.8 7.8 ... 6.3 5.9 6. ]\n"
          ]
        }
      ]
    },
    {
      "cell_type": "code",
      "source": [
        "print(redwine[:,0].mean()) #0번 행의 평균값"
      ],
      "metadata": {
        "colab": {
          "base_uri": "https://localhost:8080/"
        },
        "id": "yCN5DcIir_hK",
        "outputId": "05d38e05-39e8-4968-ae56-ef66ef728cc7"
      },
      "execution_count": 33,
      "outputs": [
        {
          "output_type": "stream",
          "name": "stdout",
          "text": [
            "8.31963727329581\n"
          ]
        }
      ]
    },
    {
      "cell_type": "code",
      "source": [
        "print(redwine.max(axis=0))\n",
        "print(redwine.min(axis=0))"
      ],
      "metadata": {
        "colab": {
          "base_uri": "https://localhost:8080/"
        },
        "id": "ryOUMfuhq2D1",
        "outputId": "7ea0b637-fe48-4234-ee4f-5b1097117e21"
      },
      "execution_count": 31,
      "outputs": [
        {
          "output_type": "stream",
          "name": "stdout",
          "text": [
            "[ 15.9       1.58      1.       15.5       0.611    72.      289.\n",
            "   1.00369   4.01      2.       14.9       8.     ]\n",
            "[4.6     0.12    0.      0.9     0.012   1.      6.      0.99007 2.74\n",
            " 0.33    8.4     3.     ]\n"
          ]
        }
      ]
    },
    {
      "cell_type": "code",
      "source": [],
      "metadata": {
        "id": "WnbQW_VMr5yE"
      },
      "execution_count": null,
      "outputs": []
    }
  ]
}