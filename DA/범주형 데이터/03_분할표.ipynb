{
 "cells": [
  {
   "cell_type": "code",
   "execution_count": 3,
   "id": "f31f25ab",
   "metadata": {},
   "outputs": [
    {
     "name": "stdout",
     "output_type": "stream",
     "text": [
      "Collecting matplot\n",
      "  Using cached matplot-0.1.9-py2.py3-none-any.whl (5.0 kB)\n",
      "Requirement already satisfied: matplotlib>=3.1.1 in c:\\users\\tlsgu\\miniconda3\\envs\\ai\\lib\\site-packages (from matplot) (3.7.1)\n",
      "Collecting pyloco>=0.0.134\n",
      "  Using cached pyloco-0.0.139-py2.py3-none-any.whl (60 kB)\n",
      "Requirement already satisfied: kiwisolver>=1.0.1 in c:\\users\\tlsgu\\miniconda3\\envs\\ai\\lib\\site-packages (from matplotlib>=3.1.1->matplot) (1.4.4)\n",
      "Requirement already satisfied: pyparsing>=2.3.1 in c:\\users\\tlsgu\\miniconda3\\envs\\ai\\lib\\site-packages (from matplotlib>=3.1.1->matplot) (3.0.9)\n",
      "Requirement already satisfied: importlib-resources>=3.2.0 in c:\\users\\tlsgu\\miniconda3\\envs\\ai\\lib\\site-packages (from matplotlib>=3.1.1->matplot) (5.12.0)\n",
      "Requirement already satisfied: fonttools>=4.22.0 in c:\\users\\tlsgu\\miniconda3\\envs\\ai\\lib\\site-packages (from matplotlib>=3.1.1->matplot) (4.39.4)\n",
      "Requirement already satisfied: pillow>=6.2.0 in c:\\users\\tlsgu\\miniconda3\\envs\\ai\\lib\\site-packages (from matplotlib>=3.1.1->matplot) (9.5.0)\n",
      "Requirement already satisfied: python-dateutil>=2.7 in c:\\users\\tlsgu\\miniconda3\\envs\\ai\\lib\\site-packages (from matplotlib>=3.1.1->matplot) (2.8.2)\n",
      "Requirement already satisfied: numpy>=1.20 in c:\\users\\tlsgu\\miniconda3\\envs\\ai\\lib\\site-packages (from matplotlib>=3.1.1->matplot) (1.24.3)\n",
      "Requirement already satisfied: packaging>=20.0 in c:\\users\\tlsgu\\miniconda3\\envs\\ai\\lib\\site-packages (from matplotlib>=3.1.1->matplot) (23.1)\n",
      "Requirement already satisfied: cycler>=0.10 in c:\\users\\tlsgu\\miniconda3\\envs\\ai\\lib\\site-packages (from matplotlib>=3.1.1->matplot) (0.11.0)\n",
      "Requirement already satisfied: contourpy>=1.0.1 in c:\\users\\tlsgu\\miniconda3\\envs\\ai\\lib\\site-packages (from matplotlib>=3.1.1->matplot) (1.0.7)\n",
      "Collecting typing\n",
      "  Using cached typing-3.7.4.3.tar.gz (78 kB)\n",
      "  Preparing metadata (setup.py): started\n",
      "  Preparing metadata (setup.py): finished with status 'done'\n",
      "Collecting SimpleWebSocketServer\n",
      "  Using cached SimpleWebSocketServer-0.1.2.tar.gz (10 kB)\n",
      "  Preparing metadata (setup.py): started\n",
      "  Preparing metadata (setup.py): finished with status 'done'\n",
      "Collecting twine\n",
      "  Using cached twine-4.0.2-py3-none-any.whl (36 kB)\n",
      "Collecting ushlex\n",
      "  Using cached ushlex-0.99.1.tar.gz (4.7 kB)\n",
      "  Preparing metadata (setup.py): started\n",
      "  Preparing metadata (setup.py): finished with status 'done'\n",
      "Requirement already satisfied: websocket-client in c:\\users\\tlsgu\\miniconda3\\envs\\ai\\lib\\site-packages (from pyloco>=0.0.134->matplot) (1.5.1)\n",
      "Requirement already satisfied: zipp>=3.1.0 in c:\\users\\tlsgu\\miniconda3\\envs\\ai\\lib\\site-packages (from importlib-resources>=3.2.0->matplotlib>=3.1.1->matplot) (3.15.0)\n",
      "Requirement already satisfied: six>=1.5 in c:\\users\\tlsgu\\miniconda3\\envs\\ai\\lib\\site-packages (from python-dateutil>=2.7->matplotlib>=3.1.1->matplot) (1.16.0)\n",
      "Collecting requests-toolbelt!=0.9.0,>=0.8.0\n",
      "  Using cached requests_toolbelt-1.0.0-py2.py3-none-any.whl (54 kB)\n",
      "Collecting requests>=2.20\n",
      "  Using cached requests-2.30.0-py3-none-any.whl (62 kB)\n",
      "Collecting rich>=12.0.0\n",
      "  Using cached rich-13.3.5-py3-none-any.whl (238 kB)\n",
      "Requirement already satisfied: importlib-metadata>=3.6 in c:\\users\\tlsgu\\miniconda3\\envs\\ai\\lib\\site-packages (from twine->pyloco>=0.0.134->matplot) (6.6.0)\n",
      "Collecting readme-renderer>=35.0\n",
      "  Using cached readme_renderer-37.3-py3-none-any.whl (14 kB)\n",
      "Collecting pkginfo>=1.8.1\n",
      "  Using cached pkginfo-1.9.6-py3-none-any.whl (30 kB)\n",
      "Collecting rfc3986>=1.4.0\n",
      "  Using cached rfc3986-2.0.0-py2.py3-none-any.whl (31 kB)\n",
      "Collecting urllib3>=1.26.0\n",
      "  Using cached urllib3-2.0.2-py3-none-any.whl (123 kB)\n",
      "Collecting keyring>=15.1\n",
      "  Using cached keyring-23.13.1-py3-none-any.whl (37 kB)\n",
      "Collecting pywin32-ctypes>=0.2.0\n",
      "  Using cached pywin32_ctypes-0.2.0-py2.py3-none-any.whl (28 kB)\n",
      "Collecting jaraco.classes\n",
      "  Using cached jaraco.classes-3.2.3-py3-none-any.whl (6.0 kB)\n",
      "Requirement already satisfied: bleach>=2.1.0 in c:\\users\\tlsgu\\miniconda3\\envs\\ai\\lib\\site-packages (from readme-renderer>=35.0->twine->pyloco>=0.0.134->matplot) (6.0.0)\n",
      "Collecting docutils>=0.13.1\n",
      "  Downloading docutils-0.20.1-py3-none-any.whl (572 kB)\n",
      "     ---------------------------------------- 0.0/572.7 kB ? eta -:--:--\n",
      "     ------------------------------------  563.2/572.7 kB 17.8 MB/s eta 0:00:01\n",
      "     ------------------------------------- 572.7/572.7 kB 12.0 MB/s eta 0:00:00\n",
      "Requirement already satisfied: Pygments>=2.5.1 in c:\\users\\tlsgu\\miniconda3\\envs\\ai\\lib\\site-packages (from readme-renderer>=35.0->twine->pyloco>=0.0.134->matplot) (2.15.1)\n",
      "Requirement already satisfied: idna<4,>=2.5 in c:\\users\\tlsgu\\miniconda3\\envs\\ai\\lib\\site-packages (from requests>=2.20->twine->pyloco>=0.0.134->matplot) (3.4)\n",
      "Collecting charset-normalizer<4,>=2\n",
      "  Downloading charset_normalizer-3.1.0-cp38-cp38-win_amd64.whl (96 kB)\n",
      "     ---------------------------------------- 0.0/96.4 kB ? eta -:--:--\n",
      "     ---------------------------------------- 96.4/96.4 kB 5.7 MB/s eta 0:00:00\n",
      "Collecting certifi>=2017.4.17\n",
      "  Using cached certifi-2023.5.7-py3-none-any.whl (156 kB)\n",
      "Collecting markdown-it-py<3.0.0,>=2.2.0\n",
      "  Using cached markdown_it_py-2.2.0-py3-none-any.whl (84 kB)\n",
      "Requirement already satisfied: typing-extensions<5.0,>=4.0.0 in c:\\users\\tlsgu\\miniconda3\\envs\\ai\\lib\\site-packages (from rich>=12.0.0->twine->pyloco>=0.0.134->matplot) (4.5.0)\n",
      "Requirement already satisfied: webencodings in c:\\users\\tlsgu\\miniconda3\\envs\\ai\\lib\\site-packages (from bleach>=2.1.0->readme-renderer>=35.0->twine->pyloco>=0.0.134->matplot) (0.5.1)\n",
      "Collecting mdurl~=0.1\n",
      "  Using cached mdurl-0.1.2-py3-none-any.whl (10.0 kB)\n",
      "Collecting more-itertools\n",
      "  Using cached more_itertools-9.1.0-py3-none-any.whl (54 kB)\n",
      "Building wheels for collected packages: SimpleWebSocketServer, typing, ushlex\n",
      "  Building wheel for SimpleWebSocketServer (setup.py): started\n",
      "  Building wheel for SimpleWebSocketServer (setup.py): finished with status 'done'\n",
      "  Created wheel for SimpleWebSocketServer: filename=SimpleWebSocketServer-0.1.2-py3-none-any.whl size=9686 sha256=86bb75ea93b35da865205e120d2a0190748ceb65593a599c045b3fef1c4c3964\n",
      "  Stored in directory: c:\\users\\tlsgu\\appdata\\local\\pip\\cache\\wheels\\bf\\ec\\bd\\6f7f6a3ea6d4bab33a6c417db5addcbdc549b0922106165192\n",
      "  Building wheel for typing (setup.py): started\n",
      "  Building wheel for typing (setup.py): finished with status 'done'\n",
      "  Created wheel for typing: filename=typing-3.7.4.3-py3-none-any.whl size=26325 sha256=51009b946e92acdc1761a6d53fe3cf9ed350c7f97f6ae5782eb0a9ccadef6483\n",
      "  Stored in directory: c:\\users\\tlsgu\\appdata\\local\\pip\\cache\\wheels\\5e\\5d\\01\\3083e091b57809dad979ea543def62d9d878950e3e74f0c930\n",
      "  Building wheel for ushlex (setup.py): started\n",
      "  Building wheel for ushlex (setup.py): finished with status 'done'\n",
      "  Created wheel for ushlex: filename=ushlex-0.99.1-py3-none-any.whl size=4401 sha256=09697fda17814a74a63ff4700329744f5410f201626a2887de5a0a56921c0fd3\n",
      "  Stored in directory: c:\\users\\tlsgu\\appdata\\local\\pip\\cache\\wheels\\d1\\fd\\c1\\1a3ae6a14d03618418c757b09c0b55dcb07bb3409a6780a127\n",
      "Successfully built SimpleWebSocketServer typing ushlex\n",
      "Installing collected packages: ushlex, SimpleWebSocketServer, pywin32-ctypes, urllib3, typing, rfc3986, pkginfo, more-itertools, mdurl, docutils, charset-normalizer, certifi, requests, readme-renderer, markdown-it-py, jaraco.classes, rich, requests-toolbelt, keyring, twine, pyloco, matplot\n",
      "Successfully installed SimpleWebSocketServer-0.1.2 certifi-2023.5.7 charset-normalizer-3.1.0 docutils-0.20.1 jaraco.classes-3.2.3 keyring-23.13.1 markdown-it-py-2.2.0 matplot-0.1.9 mdurl-0.1.2 more-itertools-9.1.0 pkginfo-1.9.6 pyloco-0.0.139 pywin32-ctypes-0.2.0 readme-renderer-37.3 requests-2.30.0 requests-toolbelt-1.0.0 rfc3986-2.0.0 rich-13.3.5 twine-4.0.2 typing-3.7.4.3 urllib3-2.0.2 ushlex-0.99.1\n",
      "Note: you may need to restart the kernel to use updated packages.\n"
     ]
    }
   ],
   "source": [
    "pip install matplot"
   ]
  },
  {
   "cell_type": "code",
   "execution_count": 8,
   "id": "3b80f647",
   "metadata": {},
   "outputs": [
    {
     "data": {
      "image/png": "[encoded data removed]",
      "text/plain": [
       "<Figure size 640x480 with 1 Axes>"
      ]
     },
     "metadata": {},
     "output_type": "display_data"
    }
   ],
   "source": [
    "import seaborn as sns\n",
    "import matplotlib.pyplot as plt\n",
    "\n",
    "# 데이터 생성\n",
    "data = [[5,10,15],[10,15,20]]\n",
    "\n",
    "# Seanorn을 이용한 히트맵 시각화\n",
    "sns.heatmap(data, cmap=\"YlGnBu\", annot=True, fmt='d', cbar=False)\n",
    "\n",
    "# 플롯 제목 추가\n",
    "plt.title(\"Example Contingency Table Heatmap\")\n",
    "\n",
    "# 플롯 출력\n",
    "plt.show()"
   ]
  },
  {
   "cell_type": "code",
   "execution_count": null,
   "id": "67f52e86",
   "metadata": {},
   "outputs": [],
   "source": []
  }
 ],
 "metadata": {
  "kernelspec": {
   "display_name": "AI",
   "language": "python",
   "name": "ai"
  },
  "language_info": {
   "codemirror_mode": {
    "name": "ipython",
    "version": 3
   },
   "file_extension": ".py",
   "mimetype": "text/x-python",
   "name": "python",
   "nbconvert_exporter": "python",
   "pygments_lexer": "ipython3",
   "version": "3.8.16"
  }
 },
 "nbformat": 4,
 "nbformat_minor": 5
}
