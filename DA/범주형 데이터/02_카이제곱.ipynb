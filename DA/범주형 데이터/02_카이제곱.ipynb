{
 "cells": [
  {
   "cell_type": "code",
   "execution_count": 1,
   "id": "1e040209",
   "metadata": {},
   "outputs": [],
   "source": [
    "import numpy as np\n",
    "from scipy.stats import chi2_contingency"
   ]
  },
  {
   "cell_type": "code",
   "execution_count": 3,
   "id": "d4b6c849",
   "metadata": {},
   "outputs": [
    {
     "name": "stdout",
     "output_type": "stream",
     "text": [
      "[[10 20 30]\n",
      " [ 6 15  9]]\n"
     ]
    }
   ],
   "source": [
    "# 예시 데이터 생성\n",
    "observed_values = np.array([[10,20,30],[6,15,9]])\n",
    "print(observed_values)"
   ]
  },
  {
   "cell_type": "code",
   "execution_count": 4,
   "id": "77527c62",
   "metadata": {},
   "outputs": [],
   "source": [
    "# 카이제곱 검정 수행\n",
    "chi2, p_value, dof, expected_values = chi2_contingency(observed_values)"
   ]
  },
  {
   "cell_type": "code",
   "execution_count": 5,
   "id": "97b1c087",
   "metadata": {},
   "outputs": [
    {
     "name": "stdout",
     "output_type": "stream",
     "text": [
      "카이제곱 통계량: 3.3997252747252746\n",
      "p-value: 0.18270861966696167\n",
      "자유도: 2\n",
      "[[10.66666667 23.33333333 26.        ]\n",
      " [ 5.33333333 11.66666667 13.        ]]\n"
     ]
    }
   ],
   "source": [
    "# 결과 출력\n",
    "print(f\"카이제곱 통계량: {chi2}\")\n",
    "print(f\"p-value: {p_value}\")\n",
    "print(f\"자유도: {dof}\")\n",
    "print(expected_values)"
   ]
  },
  {
   "cell_type": "code",
   "execution_count": null,
   "id": "c8e87d3d",
   "metadata": {},
   "outputs": [],
   "source": []
  }
 ],
 "metadata": {
  "kernelspec": {
   "display_name": "AI",
   "language": "python",
   "name": "ai"
  },
  "language_info": {
   "codemirror_mode": {
    "name": "ipython",
    "version": 3
   },
   "file_extension": ".py",
   "mimetype": "text/x-python",
   "name": "python",
   "nbconvert_exporter": "python",
   "pygments_lexer": "ipython3",
   "version": "3.8.16"
  }
 },
 "nbformat": 4,
 "nbformat_minor": 5
}
