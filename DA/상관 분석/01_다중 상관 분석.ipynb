{
 "cells": [
  {
   "cell_type": "code",
   "execution_count": 1,
   "id": "b717cd7f",
   "metadata": {},
   "outputs": [],
   "source": [
    "import seaborn as sns"
   ]
  },
  {
   "cell_type": "code",
   "execution_count": 3,
   "id": "fb17381e",
   "metadata": {},
   "outputs": [
    {
     "name": "stdout",
     "output_type": "stream",
     "text": [
      "          survived    pclass       age      fare\n",
      "survived  1.000000 -0.359653 -0.077221  0.268189\n",
      "pclass   -0.359653  1.000000 -0.369226 -0.554182\n",
      "age      -0.077221 -0.369226  1.000000  0.096067\n",
      "fare      0.268189 -0.554182  0.096067  1.000000\n"
     ]
    }
   ],
   "source": [
    "# titanic 데이터셋에서 일부 변수 선택\n",
    "cols = ['survived', 'pclass','age','fare']\n",
    "\n",
    "# 선택한 변수들을 가지고 새로운 데이터프레임 생성\n",
    "df = sns.load_dataset('titanic')[cols].dropna()\n",
    "\n",
    "# 다중 상관 분석 수행\n",
    "corr = df.corr()\n",
    "\n",
    "# 결과 출력\n",
    "print(corr)"
   ]
  },
  {
   "cell_type": "code",
   "execution_count": null,
   "id": "a304b7b5",
   "metadata": {},
   "outputs": [],
   "source": []
  }
 ],
 "metadata": {
  "kernelspec": {
   "display_name": "AI",
   "language": "python",
   "name": "ai"
  },
  "language_info": {
   "codemirror_mode": {
    "name": "ipython",
    "version": 3
   },
   "file_extension": ".py",
   "mimetype": "text/x-python",
   "name": "python",
   "nbconvert_exporter": "python",
   "pygments_lexer": "ipython3",
   "version": "3.8.16"
  }
 },
 "nbformat": 4,
 "nbformat_minor": 5
}
