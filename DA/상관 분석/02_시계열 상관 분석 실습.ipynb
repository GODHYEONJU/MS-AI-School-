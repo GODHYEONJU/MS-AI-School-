{
 "cells": [
  {
   "cell_type": "code",
   "execution_count": 42,
   "id": "2b9b87ef",
   "metadata": {},
   "outputs": [],
   "source": [
    "import pandas as pd\n",
    "import random\n",
    "import os\n",
    "import numpy as np\n",
    "import matplotlib.pyplot as plt\n",
    "import seaborn as sns\n",
    "\n",
    "# 랜덤하게 각 주식의 가격 100개 데이터 생성\n",
    "# 삼성\n",
    "dates = pd.date_range(start='2021-01', periods=100, freq='D')\n",
    "samsung_prices = [random.randint(800000, 900000) for _ in range(100)]\n",
    "samsung_data = {'Date':dates, '005930.KS':samsung_prices}\n",
    "samsung_df = pd.DataFrame(samsung_data)\n",
    "samsung_df.set_index('Date', inplace=True)\n",
    "\n",
    "# LG\n",
    "lg_prices = [random.randint(1400000, 1600000) for _ in range(100)]\n",
    "lg_data = {'Date':dates, '066570.KS':lg_prices}\n",
    "lg_df = pd.DataFrame(lg_data)\n",
    "lg_df.set_index('Date', inplace=True)\n",
    "\n",
    "# 두 데이터프레임을 합쳐서 하나의 데이터프레임으로 만들기\n",
    "df = pd.concat([samsung_df, lg_df], axis=1)\n",
    "df = df.loc[:,['005930.KS', '066570.KS']]\n",
    "df.columns = ['samsung','LG']\n",
    "\n",
    "# 폴더 생성\n",
    "os.makedirs(\"./data/\", exist_ok=True)\n",
    "\n",
    "# 저장\n",
    "df.to_csv(\"./data/stock_price.csv\")"
   ]
  },
  {
   "cell_type": "code",
   "execution_count": 43,
   "id": "e7c807d6",
   "metadata": {},
   "outputs": [
    {
     "name": "stdout",
     "output_type": "stream",
     "text": [
      "            samsung       LG\n",
      "Date                        \n",
      "2021-01-01   809656  1504001\n",
      "2021-01-02   862529  1549554\n",
      "2021-01-03   867353  1579105\n",
      "2021-01-04   847484  1438012\n",
      "2021-01-05   808080  1555704\n",
      "...             ...      ...\n",
      "2021-04-06   899975  1438015\n",
      "2021-04-07   811736  1575885\n",
      "2021-04-08   880146  1496348\n",
      "2021-04-09   847642  1434698\n",
      "2021-04-10   817887  1595657\n",
      "\n",
      "[100 rows x 2 columns]\n"
     ]
    }
   ],
   "source": [
    "# csv 읽기\n",
    "df = pd.read_csv('./data/stock_price.csv')\n",
    "df['Date'] = pd.to_datetime(df['Date'])\n",
    "df.set_index('Date', inplace=True)\n",
    "print(df)"
   ]
  },
  {
   "cell_type": "code",
   "execution_count": 44,
   "id": "13a4ee63",
   "metadata": {},
   "outputs": [
    {
     "name": "stdout",
     "output_type": "stream",
     "text": [
      "             samsung        LG\n",
      "Date                          \n",
      "2021-01-01       NaN       NaN\n",
      "2021-01-02  0.065303  0.030288\n",
      "2021-01-03  0.005593  0.019071\n",
      "2021-01-04 -0.022908 -0.089350\n",
      "2021-01-05 -0.046495  0.081844\n",
      "...              ...       ...\n",
      "2021-04-06  0.111913 -0.091431\n",
      "2021-04-07 -0.098046  0.095875\n",
      "2021-04-08  0.084276 -0.050471\n",
      "2021-04-09 -0.036930 -0.041200\n",
      "2021-04-10 -0.035103  0.112190\n",
      "\n",
      "[100 rows x 2 columns]\n",
      "          samsung        LG\n",
      "samsung  1.000000 -0.074126\n",
      "LG      -0.074126  1.000000\n"
     ]
    }
   ],
   "source": [
    "# 두 종목의 수익률 계산\n",
    "returns = df.pct_change()\n",
    "print(returns)\n",
    "\n",
    "# 수익률 간의 상관 계수 계산\n",
    "corr_matrix = returns.corr()\n",
    "print(corr_matrix)"
   ]
  },
  {
   "cell_type": "code",
   "execution_count": 45,
   "id": "99247d35",
   "metadata": {},
   "outputs": [
    {
     "data": {
      "image/png": "[encoded data removed]",
      "text/plain": [
       "<Figure size 640x480 with 2 Axes>"
      ]
     },
     "metadata": {},
     "output_type": "display_data"
    }
   ],
   "source": [
    "# 히트맵 그리기\n",
    "sns.heatmap(corr_matrix, annot=True, cmap='coolwarm')\n",
    "plt.title('Stock Returns Correlation')\n",
    "plt.show()"
   ]
  },
  {
   "cell_type": "code",
   "execution_count": null,
   "id": "1d6b5774",
   "metadata": {},
   "outputs": [],
   "source": []
  }
 ],
 "metadata": {
  "kernelspec": {
   "display_name": "AI",
   "language": "python",
   "name": "ai"
  },
  "language_info": {
   "codemirror_mode": {
    "name": "ipython",
    "version": 3
   },
   "file_extension": ".py",
   "mimetype": "text/x-python",
   "name": "python",
   "nbconvert_exporter": "python",
   "pygments_lexer": "ipython3",
   "version": "3.8.16"
  }
 },
 "nbformat": 4,
 "nbformat_minor": 5
}
