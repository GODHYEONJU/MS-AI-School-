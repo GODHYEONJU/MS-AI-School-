{
 "cells": [
  {
   "cell_type": "code",
   "execution_count": 6,
   "id": "a7779ab3",
   "metadata": {},
   "outputs": [
    {
     "name": "stdout",
     "output_type": "stream",
     "text": [
      "Requirement already satisfied: nltk in c:\\users\\tlsgu\\miniconda3\\envs\\ai\\lib\\site-packages (3.8.1)\n",
      "Requirement already satisfied: click in c:\\users\\tlsgu\\miniconda3\\envs\\ai\\lib\\site-packages (from nltk) (8.1.3)\n",
      "Requirement already satisfied: joblib in c:\\users\\tlsgu\\miniconda3\\envs\\ai\\lib\\site-packages (from nltk) (1.2.0)\n",
      "Requirement already satisfied: tqdm in c:\\users\\tlsgu\\miniconda3\\envs\\ai\\lib\\site-packages (from nltk) (4.65.0)\n",
      "Requirement already satisfied: regex>=2021.8.3 in c:\\users\\tlsgu\\miniconda3\\envs\\ai\\lib\\site-packages (from nltk) (2023.5.5)\n",
      "Requirement already satisfied: colorama in c:\\users\\tlsgu\\miniconda3\\envs\\ai\\lib\\site-packages (from click->nltk) (0.4.6)\n",
      "Note: you may need to restart the kernel to use updated packages.\n"
     ]
    }
   ],
   "source": [
    "pip install nltk"
   ]
  },
  {
   "cell_type": "code",
   "execution_count": 9,
   "id": "be131d9c",
   "metadata": {},
   "outputs": [
    {
     "name": "stderr",
     "output_type": "stream",
     "text": [
      "[nltk_data] Downloading package punkt to\n",
      "[nltk_data]     C:\\Users\\tlsgu\\AppData\\Roaming\\nltk_data...\n",
      "[nltk_data]   Unzipping tokenizers\\punkt.zip.\n"
     ]
    },
    {
     "data": {
      "text/plain": [
       "True"
      ]
     },
     "execution_count": 9,
     "metadata": {},
     "output_type": "execute_result"
    }
   ],
   "source": [
    "nltk.download('punkt')"
   ]
  },
  {
   "cell_type": "code",
   "execution_count": 10,
   "id": "28d8827d",
   "metadata": {},
   "outputs": [],
   "source": [
    "import nltk\n",
    "from nltk.corpus import stopwords\n",
    "from nltk.tokenize import word_tokenize\n",
    "from nltk.stem import PorterStemmer"
   ]
  },
  {
   "cell_type": "code",
   "execution_count": 13,
   "id": "8ef4be0b",
   "metadata": {},
   "outputs": [
    {
     "name": "stdout",
     "output_type": "stream",
     "text": [
      "토큰화>> ['I', 'am', 'a', 'student', '.', 'I', 'am', 'studying', 'computer', 'science', '.']\n"
     ]
    }
   ],
   "source": [
    "# 토큰화\n",
    "text = \"I am a student. I am studying computer science.\"\n",
    "tokens = word_tokenize(text)\n",
    "print(\"토큰화>>\", tokens)"
   ]
  },
  {
   "cell_type": "code",
   "execution_count": 14,
   "id": "d345d52e",
   "metadata": {},
   "outputs": [
    {
     "name": "stderr",
     "output_type": "stream",
     "text": [
      "[nltk_data] Downloading package stopwords to\n",
      "[nltk_data]     C:\\Users\\tlsgu\\AppData\\Roaming\\nltk_data...\n",
      "[nltk_data]   Unzipping corpora\\stopwords.zip.\n"
     ]
    },
    {
     "data": {
      "text/plain": [
       "True"
      ]
     },
     "execution_count": 14,
     "metadata": {},
     "output_type": "execute_result"
    }
   ],
   "source": [
    "nltk.download('stopwords')"
   ]
  },
  {
   "cell_type": "code",
   "execution_count": 17,
   "id": "bc0dbb78",
   "metadata": {},
   "outputs": [
    {
     "name": "stdout",
     "output_type": "stream",
     "text": [
      "불용어 처리>> ['student', '.', 'studying', 'computer', 'science', '.']\n"
     ]
    }
   ],
   "source": [
    "# 불용어 처리\n",
    "stop_words = set(stopwords.words('english'))\n",
    "filtered_tokens = [token for token in tokens if token.lower() not in stop_words]\n",
    "print(\"불용어 처리>>\", filtered_tokens)"
   ]
  },
  {
   "cell_type": "code",
   "execution_count": 18,
   "id": "f3482613",
   "metadata": {},
   "outputs": [
    {
     "name": "stdout",
     "output_type": "stream",
     "text": [
      "정규화>> ['student', '.', 'studi', 'comput', 'scienc', '.']\n"
     ]
    }
   ],
   "source": [
    "# 정규화\n",
    "stemmer = PorterStemmer()\n",
    "normalized_tokens = [stemmer.stem(token) for token in filtered_tokens]\n",
    "print(\"정규화>>\", normalized_tokens)"
   ]
  },
  {
   "cell_type": "code",
   "execution_count": null,
   "id": "ff2613ca",
   "metadata": {},
   "outputs": [],
   "source": []
  }
 ],
 "metadata": {
  "kernelspec": {
   "display_name": "AI",
   "language": "python",
   "name": "ai"
  },
  "language_info": {
   "codemirror_mode": {
    "name": "ipython",
    "version": 3
   },
   "file_extension": ".py",
   "mimetype": "text/x-python",
   "name": "python",
   "nbconvert_exporter": "python",
   "pygments_lexer": "ipython3",
   "version": "3.8.16"
  }
 },
 "nbformat": 4,
 "nbformat_minor": 5
}
