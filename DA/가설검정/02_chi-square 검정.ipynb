{
 "cells": [
  {
   "cell_type": "code",
   "execution_count": 12,
   "id": "8fcde6bd",
   "metadata": {},
   "outputs": [
    {
     "name": "stdout",
     "output_type": "stream",
     "text": [
      "  Gender Smoker  Count\n",
      "0      M    Yes     20\n",
      "1      M     No     80\n",
      "2      M     No     40\n",
      "3      M    Yes     60\n",
      "4      F    Yes     40\n",
      "5      F     No    160\n",
      "6      F     No     80\n",
      "7      F    Yes    120\n",
      "p-value: 1.0000, 귀무 가설 채택\n"
     ]
    }
   ],
   "source": [
    "import pandas as pd\n",
    "import numpy as np\n",
    "from scipy.stats import chi2_contingency\n",
    "\n",
    "# 가상 데이터 생성\n",
    "data = {\n",
    "    'Gender' : ['M','M','M','M','F','F','F','F'],\n",
    "    'Smoker' : ['Yes', 'No', 'No','Yes','Yes','No', 'No','Yes'],\n",
    "    'Count' : [20,80,40,60,40,160,80,120]\n",
    "}\n",
    "df = pd.DataFrame(data)\n",
    "print(df)\n",
    "\n",
    "# 데이터프레임을 이용한 분할표 생성\n",
    "table = pd.pivot_table(df, values='Count', index='Gender', columns='Smoker')\n",
    "\n",
    "# chi-square 검정 실행\n",
    "stat, p, dof, expected = chi2_contingency(table)\n",
    "alpha = 0.05\n",
    "\n",
    "# 유의 수준과 p-value 비교 후 귀무 가설 기각 여부 결정\n",
    "if p < alpha:\n",
    "    print(f\"p-value: {p:.4f}, 귀무 가설 기각\")\n",
    "else:\n",
    "    print(f\"p-value: {p:.4f}, 귀무 가설 채택\")"
   ]
  },
  {
   "cell_type": "code",
   "execution_count": null,
   "id": "16274906",
   "metadata": {},
   "outputs": [],
   "source": []
  },
  {
   "cell_type": "code",
   "execution_count": null,
   "id": "7cad552f",
   "metadata": {},
   "outputs": [],
   "source": []
  }
 ],
 "metadata": {
  "kernelspec": {
   "display_name": "AI",
   "language": "python",
   "name": "ai"
  },
  "language_info": {
   "codemirror_mode": {
    "name": "ipython",
    "version": 3
   },
   "file_extension": ".py",
   "mimetype": "text/x-python",
   "name": "python",
   "nbconvert_exporter": "python",
   "pygments_lexer": "ipython3",
   "version": "3.8.16"
  }
 },
 "nbformat": 4,
 "nbformat_minor": 5
}
