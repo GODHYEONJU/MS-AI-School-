{
  "nbformat": 4,
  "nbformat_minor": 0,
  "metadata": {
    "colab": {
      "provenance": [],
      "authorship_tag": "ABX9TyNR1nbe71vpr1YCzv0628jz",
      "include_colab_link": true
    },
    "kernelspec": {
      "name": "python3",
      "display_name": "Python 3"
    },
    "language_info": {
      "name": "python"
    }
  },
  "cells": [
    {
      "cell_type": "markdown",
      "metadata": {
        "id": "view-in-github",
        "colab_type": "text"
      },
      "source": [
        "<a href=\"https://colab.research.google.com/github/GODHYEONJU/MS-AI-School-/blob/main/DL/08_DL_Keras03_regression(230510).ipynb\" target=\"_parent\"><img src=\"https://colab.research.google.com/assets/colab-badge.svg\" alt=\"Open In Colab\"/></a>"
      ]
    },
    {
      "cell_type": "code",
      "execution_count": null,
      "metadata": {
        "id": "FY5o8ASDdkns"
      },
      "outputs": [],
      "source": [
        "# 데이터를 가져오는 부분\n",
        "from keras.datasets import boston_housing\n",
        "(train_data, train_labels), (test_data, test_labels) = boston_housing.load_data()"
      ]
    },
    {
      "cell_type": "code",
      "source": [
        "print(train_data.shape)\n",
        "print(test_data.shape)"
      ],
      "metadata": {
        "colab": {
          "base_uri": "https://localhost:8080/"
        },
        "id": "Rr5EDgiAeEpT",
        "outputId": "b4f6e068-c164-4f4d-bc8b-eb82d19a1770"
      },
      "execution_count": null,
      "outputs": [
        {
          "output_type": "stream",
          "name": "stdout",
          "text": [
            "(404, 13)\n",
            "(102, 13)\n"
          ]
        }
      ]
    },
    {
      "cell_type": "code",
      "source": [
        "print(train_data[0])"
      ],
      "metadata": {
        "colab": {
          "base_uri": "https://localhost:8080/"
        },
        "id": "cwUE6PdLePRC",
        "outputId": "47c9f4ee-b164-490d-e6fd-404afc8b0569"
      },
      "execution_count": null,
      "outputs": [
        {
          "output_type": "stream",
          "name": "stdout",
          "text": [
            "[  1.23247   0.        8.14      0.        0.538     6.142    91.7\n",
            "   3.9769    4.      307.       21.      396.9      18.72   ]\n"
          ]
        }
      ]
    },
    {
      "cell_type": "code",
      "source": [
        "# 데이터 전처리(Scaling)\n",
        "\n",
        "mean = train_data.mean() #train_data의 전체 평균\n",
        "mean\n",
        "#전체 평균말고 데이터 처리를 하기 위해서는 각 항목(축)의 평균이 필요하다.\n",
        "mean = train_data.mean(axis=0)\n",
        "mean\n",
        "train_data -= mean # train_data = train_data - mean와 같은 표현\n",
        "#전체 데이터에서 평균치가 빠진 형태\n",
        "#표준편차를 구해 정규화를 가능\n",
        "std = train_data.std(axis=0)\n",
        "std\n",
        "train_data /= std\n",
        "\n",
        "train_data[0]"
      ],
      "metadata": {
        "colab": {
          "base_uri": "https://localhost:8080/"
        },
        "id": "R9cpnR7Sey8M",
        "outputId": "8e887986-7876-4dcb-a7c8-6edba258e28f"
      },
      "execution_count": null,
      "outputs": [
        {
          "output_type": "execute_result",
          "data": {
            "text/plain": [
              "array([-0.27224633, -0.48361547, -0.43576161, -0.25683275, -0.1652266 ,\n",
              "       -0.1764426 ,  0.81306188,  0.1166983 , -0.62624905, -0.59517003,\n",
              "        1.14850044,  0.44807713,  0.8252202 ])"
            ]
          },
          "metadata": {},
          "execution_count": 36
        }
      ]
    },
    {
      "cell_type": "markdown",
      "source": [
        "결과로 얻은 train_data의 배열은 13개"
      ],
      "metadata": {
        "id": "7vm-sAQ-f9-c"
      }
    },
    {
      "cell_type": "code",
      "source": [
        "# 모델의 구성\n",
        "from keras import models\n",
        "from keras import layers\n",
        "\n",
        "def build_model():\n",
        "  model = models.Sequential()\n",
        "  model.add(layers.Dense(64, activation='relu', input_shape=(train_data.shape[1],)))\n",
        "  model.add(layers.Dense(64, activation='relu'))\n",
        "  model.add(layers.Dense(1)) #마지막 유닛은 집값이 라는 1개의 값만 나오면됨.\n",
        "  model.compile(optimizer='rmsprop',\n",
        "                loss='mse',\n",
        "                metrics=['mse'])\n",
        "  return model"
      ],
      "metadata": {
        "id": "7dTCYXI5fXIC"
      },
      "execution_count": null,
      "outputs": []
    },
    {
      "cell_type": "code",
      "source": [
        "# K-folder 검증을 사용한 훈련 검증\n",
        "import numpy as np\n",
        "\n",
        "k = 4                                       # folder 개수\n",
        "num_val_samples = len(train_data) // k      # 한 folder의 데이터 수 \n",
        "all_scores = []\n",
        "\n",
        "for i in range(k):\n",
        "  print('처리중인 폴드 #', i)\n",
        "\n",
        "  # val_data = i * num_val_samples\n",
        "  # val_data_end = (i + 1)*num_val_samples #끝점 구하기\n",
        "  # print(val_data_end)\n",
        "\n",
        "  #검증 데이터의 준비\n",
        "  val_data = train_data[i * num_val_samples: (i + 1) * num_val_samples] #학습용 데이터 쪼개기\n",
        "  val_labels = train_labels[i * num_val_samples: (i + 1) * num_val_samples] #학습용 라벨도 동이랗게 쪼개기\n",
        "\n",
        "  #학습 데이터의 준비\n",
        "  # a = (i+1) * num_val_samples\n",
        "  # print(a)\n",
        "  data1 = train_data[:i*num_val_samples]\n",
        "  data2 = train_data[(i+1)*num_val_samples:]  \n",
        "  data1_labels=train_labels[:i*num_val_samples]\n",
        "  data2_labels = train_labels[(i+1)*num_val_samples :]\n",
        "  \n",
        "  # print(0,i*num_val_samples)\n",
        "  # print((i+1) * num_val_samples, 404)\n",
        "  \n",
        "  partial_train_data = np.concatenate([data1, data2], axis=0) #concatenate똑같은 구조의 두개의 데이터를 하나로 합쳐주는 함수\n",
        "  partial_train_labels = np.concatenate([data1_labels, data2_labels])\n",
        "  \n",
        "  # 모델의 학습\n",
        "  model = build_model()\n",
        "  model.summary()\n",
        "  model.fit(partial_train_data, partial_train_labels, epochs=500, batch_size=128, verbose=0) #4개 100번 학습\n",
        "  #verbose=0이면 훈련상황을 안보여줌.바로 결과보면됨. 1이면 훈련상황을 보여줌\n",
        "\n",
        "  #모델의 검증\n",
        "  val_mse, val_mae = model.evaluate(val_data, val_labels)\n",
        "  print(val_mse, val_mae)\n",
        "  all_scores.append(val_mae)\n"
      ],
      "metadata": {
        "colab": {
          "base_uri": "https://localhost:8080/"
        },
        "id": "h10ytOVggssM",
        "outputId": "ac3ba78d-cd9b-4607-d4ca-ac5091485b4c"
      },
      "execution_count": null,
      "outputs": [
        {
          "output_type": "stream",
          "name": "stdout",
          "text": [
            "처리중인 폴드 # 0\n",
            "Model: \"sequential_14\"\n",
            "_________________________________________________________________\n",
            " Layer (type)                Output Shape              Param #   \n",
            "=================================================================\n",
            " dense_29 (Dense)            (None, 64)                896       \n",
            "                                                                 \n",
            " dense_30 (Dense)            (None, 64)                4160      \n",
            "                                                                 \n",
            " dense_31 (Dense)            (None, 1)                 65        \n",
            "                                                                 \n",
            "=================================================================\n",
            "Total params: 5,121\n",
            "Trainable params: 5,121\n",
            "Non-trainable params: 0\n",
            "_________________________________________________________________\n",
            "4/4 [==============================] - 0s 5ms/step - loss: 7.2172 - mse: 7.2172\n",
            "7.217166900634766 7.217166900634766\n",
            "처리중인 폴드 # 1\n",
            "Model: \"sequential_15\"\n",
            "_________________________________________________________________\n",
            " Layer (type)                Output Shape              Param #   \n",
            "=================================================================\n",
            " dense_32 (Dense)            (None, 64)                896       \n",
            "                                                                 \n",
            " dense_33 (Dense)            (None, 64)                4160      \n",
            "                                                                 \n",
            " dense_34 (Dense)            (None, 1)                 65        \n",
            "                                                                 \n",
            "=================================================================\n",
            "Total params: 5,121\n",
            "Trainable params: 5,121\n",
            "Non-trainable params: 0\n",
            "_________________________________________________________________\n",
            "4/4 [==============================] - 0s 4ms/step - loss: 12.5580 - mse: 12.5580\n",
            "12.557991981506348 12.557991981506348\n",
            "처리중인 폴드 # 2\n",
            "Model: \"sequential_16\"\n",
            "_________________________________________________________________\n",
            " Layer (type)                Output Shape              Param #   \n",
            "=================================================================\n",
            " dense_35 (Dense)            (None, 64)                896       \n",
            "                                                                 \n",
            " dense_36 (Dense)            (None, 64)                4160      \n",
            "                                                                 \n",
            " dense_37 (Dense)            (None, 1)                 65        \n",
            "                                                                 \n",
            "=================================================================\n",
            "Total params: 5,121\n",
            "Trainable params: 5,121\n",
            "Non-trainable params: 0\n",
            "_________________________________________________________________\n",
            "4/4 [==============================] - 0s 4ms/step - loss: 12.9156 - mse: 12.9156\n",
            "12.91561222076416 12.91561222076416\n",
            "처리중인 폴드 # 3\n",
            "Model: \"sequential_17\"\n",
            "_________________________________________________________________\n",
            " Layer (type)                Output Shape              Param #   \n",
            "=================================================================\n",
            " dense_38 (Dense)            (None, 64)                896       \n",
            "                                                                 \n",
            " dense_39 (Dense)            (None, 64)                4160      \n",
            "                                                                 \n",
            " dense_40 (Dense)            (None, 1)                 65        \n",
            "                                                                 \n",
            "=================================================================\n",
            "Total params: 5,121\n",
            "Trainable params: 5,121\n",
            "Non-trainable params: 0\n",
            "_________________________________________________________________\n",
            "4/4 [==============================] - 0s 5ms/step - loss: 10.7567 - mse: 10.7567\n",
            "10.756683349609375 10.756683349609375\n"
          ]
        }
      ]
    },
    {
      "cell_type": "markdown",
      "source": [
        "같은 성능이면 params계수가 낮아야 좋다.\n"
      ],
      "metadata": {
        "id": "bCF_Uw3bGU5g"
      }
    },
    {
      "cell_type": "code",
      "source": [
        "# 평균값 구하기\n",
        "np.mean(all_scores)"
      ],
      "metadata": {
        "colab": {
          "base_uri": "https://localhost:8080/"
        },
        "id": "EpQHBS3r28Xd",
        "outputId": "57559d40-0939-4bd8-b835-464514d024a3"
      },
      "execution_count": null,
      "outputs": [
        {
          "output_type": "execute_result",
          "data": {
            "text/plain": [
              "10.46155309677124"
            ]
          },
          "metadata": {},
          "execution_count": 49
        }
      ]
    },
    {
      "cell_type": "code",
      "source": [],
      "metadata": {
        "id": "1fj6eftPFA1q"
      },
      "execution_count": null,
      "outputs": []
    }
  ]
}