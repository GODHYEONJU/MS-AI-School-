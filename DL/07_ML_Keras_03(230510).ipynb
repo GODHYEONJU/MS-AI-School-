{
  "nbformat": 4,
  "nbformat_minor": 0,
  "metadata": {
    "colab": {
      "provenance": [],
      "authorship_tag": "ABX9TyPJzoqoGWiXY4eTiXISdyW4",
      "include_colab_link": true
    },
    "kernelspec": {
      "name": "python3",
      "display_name": "Python 3"
    },
    "language_info": {
      "name": "python"
    }
  },
  "cells": [
    {
      "cell_type": "markdown",
      "metadata": {
        "id": "view-in-github",
        "colab_type": "text"
      },
      "source": [
        "<a href=\"https://colab.research.google.com/github/GODHYEONJU/MS-AI-School-/blob/main/5_10_ML_Keras_02.ipynb\" target=\"_parent\"><img src=\"https://colab.research.google.com/assets/colab-badge.svg\" alt=\"Open In Colab\"/></a>"
      ]
    },
    {
      "cell_type": "code",
      "execution_count": null,
      "metadata": {
        "id": "KqoVHpnXjx_A"
      },
      "outputs": [],
      "source": [
        "from keras.datasets import reuters\n",
        "(train_data, train_labels),(test_data, test_labels) = reuters.load_data(num_words=10000)"
      ]
    },
    {
      "cell_type": "code",
      "source": [
        "print(train_data.shape)\n",
        "print(test_data.shape)"
      ],
      "metadata": {
        "colab": {
          "base_uri": "https://localhost:8080/"
        },
        "id": "NEt7lKeJnH7I",
        "outputId": "27ecfebf-0c5b-41d9-ed9d-79acf0d1580c"
      },
      "execution_count": null,
      "outputs": [
        {
          "output_type": "stream",
          "name": "stdout",
          "text": [
            "(8982,)\n",
            "(2246,)\n"
          ]
        }
      ]
    },
    {
      "cell_type": "code",
      "source": [
        "import numpy as np\n",
        "\n",
        "def vectorize_sequences(sequences, dimension=10000):\n",
        "  results = np.zeros((len(sequences), dimension))\n",
        "\n",
        "  for i, sequence in enumerate(sequences):\n",
        "    results[i, sequence] = 1\n",
        "  \n",
        "  return results"
      ],
      "metadata": {
        "id": "v1SYxcBCnNRk"
      },
      "execution_count": null,
      "outputs": []
    },
    {
      "cell_type": "code",
      "source": [
        "# 훈련데이터와 테스트 데이터의 백터 변환\n",
        "x_train = vectorize_sequences(train_data)\n",
        "x_test = vectorize_sequences(test_data)"
      ],
      "metadata": {
        "id": "XeMNqRpKphWj"
      },
      "execution_count": null,
      "outputs": []
    },
    {
      "cell_type": "code",
      "source": [
        "#라벨 데이터를 카테고리 데이터로 전환\n",
        "from keras.utils.np_utils import to_categorical\n",
        "\n",
        "one_hot_train_labels = to_categorical(train_labels)\n",
        "one_hot_test_labels = to_categorical(test_labels)"
      ],
      "metadata": {
        "id": "GC2Oo00RpspY"
      },
      "execution_count": null,
      "outputs": []
    },
    {
      "cell_type": "code",
      "source": [
        "# 신경망 모델을 구성\n",
        "from keras import models\n",
        "from keras import layers\n",
        "\n",
        "model = models.Sequential()\n",
        "model.add(layers.Dense(64, activation='relu', input_shape=(10000,)))\n",
        "model.add(layers.Dense(64, activation='relu'))\n",
        "model.add(layers.Dense(46, activation='softmax'))"
      ],
      "metadata": {
        "id": "2AMC5mTJ_gTU"
      },
      "execution_count": null,
      "outputs": []
    },
    {
      "cell_type": "code",
      "source": [
        "model.compile(optimizer='rmsprop',\n",
        "             loss='categorical_crossentropy',\n",
        "             metrics=['accuracy'])"
      ],
      "metadata": {
        "id": "Ux6g57sQCfk8"
      },
      "execution_count": null,
      "outputs": []
    },
    {
      "cell_type": "code",
      "source": [
        "#검증용\n",
        "x_val = x_train[:1000]\n",
        "#조각난 학습용\n",
        "partial_x_train = x_train[1000:]\n",
        "y_val = one_hot_train_labels[:1000]\n",
        "partial_y_train = one_hot_train_labels[1000:]"
      ],
      "metadata": {
        "id": "xlo6_BIHCzdg"
      },
      "execution_count": null,
      "outputs": []
    },
    {
      "cell_type": "code",
      "source": [
        "history = model.fit(partial_x_train, \n",
        "                    partial_y_train,\n",
        "                    epochs=20,\n",
        "                    batch_size=512,\n",
        "                    validation_data=(x_val, y_val))"
      ],
      "metadata": {
        "colab": {
          "base_uri": "https://localhost:8080/"
        },
        "id": "uGPxwJ3ZDipl",
        "outputId": "8a9e70e8-b991-426f-e619-d5c8b0212454"
      },
      "execution_count": null,
      "outputs": [
        {
          "output_type": "stream",
          "name": "stdout",
          "text": [
            "Epoch 1/20\n",
            "16/16 [==============================] - 3s 123ms/step - loss: 2.7265 - accuracy: 0.4811 - val_loss: 1.8682 - val_accuracy: 0.6150\n",
            "Epoch 2/20\n",
            "16/16 [==============================] - 2s 112ms/step - loss: 1.5448 - accuracy: 0.6864 - val_loss: 1.3819 - val_accuracy: 0.6870\n",
            "Epoch 3/20\n",
            "16/16 [==============================] - 2s 108ms/step - loss: 1.1675 - accuracy: 0.7504 - val_loss: 1.1997 - val_accuracy: 0.7460\n",
            "Epoch 4/20\n",
            "16/16 [==============================] - 2s 128ms/step - loss: 0.9560 - accuracy: 0.7954 - val_loss: 1.0848 - val_accuracy: 0.7710\n",
            "Epoch 5/20\n",
            "16/16 [==============================] - 2s 116ms/step - loss: 0.7982 - accuracy: 0.8281 - val_loss: 1.0230 - val_accuracy: 0.7850\n",
            "Epoch 6/20\n",
            "16/16 [==============================] - 2s 121ms/step - loss: 0.6741 - accuracy: 0.8520 - val_loss: 1.0298 - val_accuracy: 0.7650\n",
            "Epoch 7/20\n",
            "16/16 [==============================] - 3s 186ms/step - loss: 0.5669 - accuracy: 0.8789 - val_loss: 0.9553 - val_accuracy: 0.7920\n",
            "Epoch 8/20\n",
            "16/16 [==============================] - 2s 147ms/step - loss: 0.4761 - accuracy: 0.9005 - val_loss: 0.9426 - val_accuracy: 0.7890\n",
            "Epoch 9/20\n",
            "16/16 [==============================] - 2s 113ms/step - loss: 0.4074 - accuracy: 0.9151 - val_loss: 0.9289 - val_accuracy: 0.8070\n",
            "Epoch 10/20\n",
            "16/16 [==============================] - 2s 137ms/step - loss: 0.3476 - accuracy: 0.9278 - val_loss: 0.9234 - val_accuracy: 0.8030\n",
            "Epoch 11/20\n",
            "16/16 [==============================] - 2s 131ms/step - loss: 0.3001 - accuracy: 0.9362 - val_loss: 0.9329 - val_accuracy: 0.8090\n",
            "Epoch 12/20\n",
            "16/16 [==============================] - 2s 128ms/step - loss: 0.2610 - accuracy: 0.9439 - val_loss: 0.9496 - val_accuracy: 0.7980\n",
            "Epoch 13/20\n",
            "16/16 [==============================] - 2s 138ms/step - loss: 0.2367 - accuracy: 0.9455 - val_loss: 0.9450 - val_accuracy: 0.8140\n",
            "Epoch 14/20\n",
            "16/16 [==============================] - 2s 156ms/step - loss: 0.2092 - accuracy: 0.9499 - val_loss: 0.9284 - val_accuracy: 0.8090\n",
            "Epoch 15/20\n",
            "16/16 [==============================] - 2s 107ms/step - loss: 0.1900 - accuracy: 0.9516 - val_loss: 0.9135 - val_accuracy: 0.8200\n",
            "Epoch 16/20\n",
            "16/16 [==============================] - 1s 63ms/step - loss: 0.1764 - accuracy: 0.9525 - val_loss: 0.9248 - val_accuracy: 0.8120\n",
            "Epoch 17/20\n",
            "16/16 [==============================] - 1s 61ms/step - loss: 0.1634 - accuracy: 0.9546 - val_loss: 0.9969 - val_accuracy: 0.7990\n",
            "Epoch 18/20\n",
            "16/16 [==============================] - 1s 62ms/step - loss: 0.1536 - accuracy: 0.9558 - val_loss: 0.9544 - val_accuracy: 0.8150\n",
            "Epoch 19/20\n",
            "16/16 [==============================] - 1s 63ms/step - loss: 0.1468 - accuracy: 0.9536 - val_loss: 0.9622 - val_accuracy: 0.8120\n",
            "Epoch 20/20\n",
            "16/16 [==============================] - 1s 66ms/step - loss: 0.1352 - accuracy: 0.9574 - val_loss: 0.9795 - val_accuracy: 0.8140\n"
          ]
        }
      ]
    },
    {
      "cell_type": "code",
      "source": [
        "import matplotlib.pyplot as plt"
      ],
      "metadata": {
        "id": "j_jRzGb0EnNM"
      },
      "execution_count": null,
      "outputs": []
    },
    {
      "cell_type": "code",
      "source": [
        "loss = history.history['loss']\n",
        "val_loss = history.history['val_loss']\n",
        "acc = history.history['accuracy']\n",
        "val_loss = history.history['val_accuracy']"
      ],
      "metadata": {
        "id": "5JMwSItcFyE8"
      },
      "execution_count": null,
      "outputs": []
    },
    {
      "cell_type": "code",
      "source": [
        "epochs = range(1, len(loss)+1)\n",
        "\n",
        "plt.plot(epochs, loss, 'bo', label='Traing loss')\n",
        "plt.plot(epochs, val_loss, 'r-', label=\"Validation loss\")\n",
        "plt.title('Training and validatin loss')\n",
        "plt.xlabel('Epochs')\n",
        "plt.ylabel('Loss')\n",
        "plt.legend()"
      ],
      "metadata": {
        "colab": {
          "base_uri": "https://localhost:8080/",
          "height": 490
        },
        "id": "T6LgeJ-vGktD",
        "outputId": "270aecc2-351f-4534-8e95-28f2dfd28000"
      },
      "execution_count": null,
      "outputs": [
        {
          "output_type": "execute_result",
          "data": {
            "text/plain": [
              "<matplotlib.legend.Legend at 0x7fcad0fbb250>"
            ]
          },
          "metadata": {},
          "execution_count": 113
        },
        {
          "output_type": "display_data",
          "data": {
            "text/plain": [
              "<Figure size 640x480 with 1 Axes>"
            ],
            "image/png": "[encoded data removed]"
          },
          "metadata": {}
        }
      ]
    },
    {
      "cell_type": "code",
      "source": [
        "plt.plot(epochs, acc, 'bo', label='Traing accuracy')\n",
        "plt.plot(epochs, val_loss, 'r-', label=\"Validation accuracy\")\n",
        "plt.title('Training and validatin accuracy')\n",
        "plt.xlabel('Epochs')\n",
        "plt.ylabel('accuracy')\n",
        "plt.legend()"
      ],
      "metadata": {
        "colab": {
          "base_uri": "https://localhost:8080/",
          "height": 490
        },
        "id": "6MBwIROuHDQ-",
        "outputId": "8fe51972-c806-4659-b8f1-c7b12890db92"
      },
      "execution_count": null,
      "outputs": [
        {
          "output_type": "execute_result",
          "data": {
            "text/plain": [
              "<matplotlib.legend.Legend at 0x7fcad2b8dba0>"
            ]
          },
          "metadata": {},
          "execution_count": 114
        },
        {
          "output_type": "display_data",
          "data": {
            "text/plain": [
              "<Figure size 640x480 with 1 Axes>"
            ],
            "image/png": "[encoded data removed]"
          },
          "metadata": {}
        }
      ]
    },
    {
      "cell_type": "markdown",
      "source": [
        "val_acc, val_loss 가장 최적합되는 포인트를 찾아야함. 몇번째 반복에서 젤 잘 되는지.."
      ],
      "metadata": {
        "id": "h1PY373pIhC1"
      }
    },
    {
      "cell_type": "code",
      "source": [
        "#검증된 결과로 다시 학습\n",
        "\n",
        "model = models.Sequential()\n",
        "model.add(layers.Dense(64, activation='relu', input_shape=(10000,)))\n",
        "model.add(layers.Dense(64, activation='relu'))\n",
        "model.add(layers.Dense(46, activation='softmax'))\n",
        "\n",
        "model.compile(optimizer = 'rmsprop',\n",
        "              loss='categorical_crossentropy',\n",
        "              metrics=['accuracy'])\n",
        "\n",
        "history = model.fit(partial_x_train, \n",
        "                    partial_y_train,\n",
        "                    epochs=10,\n",
        "                    batch_size=512,\n",
        "                    validation_data=(x_val, y_val))\n",
        "\n",
        "eval_result = model.evaluate(x_test, one_hot_test_labels)\n",
        "print(eval_result)"
      ],
      "metadata": {
        "id": "byLNRMjcILN7",
        "colab": {
          "base_uri": "https://localhost:8080/"
        },
        "outputId": "fd65a037-deae-486a-df2d-220102f99793"
      },
      "execution_count": null,
      "outputs": [
        {
          "output_type": "stream",
          "name": "stdout",
          "text": [
            "Epoch 1/10\n",
            "16/16 [==============================] - 2s 80ms/step - loss: 2.5873 - accuracy: 0.4905 - val_loss: 1.7696 - val_accuracy: 0.6000\n",
            "Epoch 2/10\n",
            "16/16 [==============================] - 1s 85ms/step - loss: 1.4878 - accuracy: 0.6780 - val_loss: 1.3476 - val_accuracy: 0.6870\n",
            "Epoch 3/10\n",
            "16/16 [==============================] - 2s 106ms/step - loss: 1.1440 - accuracy: 0.7492 - val_loss: 1.1662 - val_accuracy: 0.7350\n",
            "Epoch 4/10\n",
            "16/16 [==============================] - 2s 100ms/step - loss: 0.9341 - accuracy: 0.7972 - val_loss: 1.0549 - val_accuracy: 0.7800\n",
            "Epoch 5/10\n",
            "16/16 [==============================] - 1s 71ms/step - loss: 0.7734 - accuracy: 0.8330 - val_loss: 0.9940 - val_accuracy: 0.7920\n",
            "Epoch 6/10\n",
            "16/16 [==============================] - 1s 59ms/step - loss: 0.6473 - accuracy: 0.8618 - val_loss: 0.9561 - val_accuracy: 0.7980\n",
            "Epoch 7/10\n",
            "16/16 [==============================] - 1s 64ms/step - loss: 0.5428 - accuracy: 0.8856 - val_loss: 0.9346 - val_accuracy: 0.7970\n",
            "Epoch 8/10\n",
            "16/16 [==============================] - 1s 60ms/step - loss: 0.4573 - accuracy: 0.9032 - val_loss: 0.9060 - val_accuracy: 0.8050\n",
            "Epoch 9/10\n",
            "16/16 [==============================] - 1s 64ms/step - loss: 0.3828 - accuracy: 0.9196 - val_loss: 0.8890 - val_accuracy: 0.8160\n",
            "Epoch 10/10\n",
            "16/16 [==============================] - 1s 58ms/step - loss: 0.3275 - accuracy: 0.9272 - val_loss: 0.9023 - val_accuracy: 0.8120\n",
            "71/71 [==============================] - 0s 5ms/step - loss: 0.9776 - accuracy: 0.7818\n",
            "[0.9776266813278198, 0.7818343639373779]\n"
          ]
        }
      ]
    },
    {
      "cell_type": "markdown",
      "source": [
        "eval_result 정확도는 78%\n",
        "\n",
        "> 들여쓴 블록\n",
        "\n",
        "\n",
        "모델의 loss는 0.97"
      ],
      "metadata": {
        "id": "2STRiXa4LGDk"
      }
    },
    {
      "cell_type": "code",
      "source": [],
      "metadata": {
        "id": "2lWXswuEKY3P"
      },
      "execution_count": null,
      "outputs": []
    }
  ]
}
