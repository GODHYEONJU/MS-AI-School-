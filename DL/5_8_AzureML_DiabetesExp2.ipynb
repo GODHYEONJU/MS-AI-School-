{
  "cells": [
    {
      "cell_type": "code",
      "execution_count": 34,
      "metadata": {
        "gather": {
          "logged": 1683506369996
        }
      },
      "outputs": [
        {
          "name": "stdout",
          "output_type": "stream",
          "text": [
            "Workspace name:labuser29ml Azure region:koreacentral Subscription ID:27db5ec6-d206-4028-b5e1-6004dca5eeef Resource group:rg29\n"
          ]
        }
      ],
      "source": [
        "from azureml.core import Workspace\n",
        "ws = Workspace.from_config()\n",
        "print('Workspace name:'+ ws.name,\n",
        "        'Azure region:'+ ws.location,\n",
        "        'Subscription ID:' +ws.subscription_id,\n",
        "        'Resource group:' + ws.resource_group)"
      ]
    },
    {
      "cell_type": "code",
      "execution_count": 35,
      "metadata": {
        "gather": {
          "logged": 1683506370696
        },
        "jupyter": {
          "outputs_hidden": false,
          "source_hidden": false
        },
        "nteract": {
          "transient": {
            "deleting": false
          }
        }
      },
      "outputs": [],
      "source": [
        "#실험공간을 준비\n",
        "from azureml.core import Experiment\n",
        "experiment = Experiment(workspace=ws, name='diabetes-experiment')"
      ]
    },
    {
      "cell_type": "code",
      "execution_count": 36,
      "metadata": {
        "gather": {
          "logged": 1683506375570
        },
        "jupyter": {
          "outputs_hidden": false,
          "source_hidden": false
        },
        "nteract": {
          "transient": {
            "deleting": false
          }
        }
      },
      "outputs": [
        {
          "name": "stdout",
          "output_type": "stream",
          "text": [
            "     AGE  SEX   BMI     BP   S1     S2    S3    S4      S5   S6\n",
            "440   36    1  30.0   95.0  201  125.2  42.0  4.79  5.1299   85\n",
            "389   47    2  26.5   70.0  181  104.8  63.0  3.00  4.1897   70\n",
            "5     23    1  22.6   89.0  139   64.8  61.0  2.00  4.1897   68\n",
            "289   28    2  31.5   83.0  228  149.4  38.0  6.00  5.3132   83\n",
            "101   53    2  22.2  113.0  197  115.2  67.0  3.00  4.3041  100\n",
            "..   ...  ...   ...    ...  ...    ...   ...   ...     ...  ...\n",
            "122   62    2  33.9  101.0  221  156.4  35.0  6.00  4.9972  103\n",
            "51    65    2  27.9  103.0  159   96.8  42.0  4.00  4.6151   86\n",
            "119   53    1  22.0   94.0  175   88.0  59.0  3.00  4.9416   98\n",
            "316   53    2  27.7   95.0  190  101.8  41.0  5.00  5.4638  101\n",
            "20    35    1  21.1   82.0  156   87.8  50.0  3.00  4.5109   95\n",
            "\n",
            "[353 rows x 10 columns]\n"
          ]
        }
      ],
      "source": [
        "# 데이터를 준비\n",
        "from azureml.opendatasets import Diabetes\n",
        "from sklearn.model_selection import train_test_split #데이터 자르기\n",
        "\n",
        "x_df=Diabetes.get_tabular_dataset().to_pandas_dataframe().dropna() #dropna() 중간에 null 값이나 없는 값들 drop시켜준다.\n",
        "y_df = x_df.pop('Y') #pop 값을 꺼내서 저장해준다.\n",
        "\n",
        "X_train, X_test, y_train, y_test = train_test_split(x_df, y_df, test_size=0.2, random_state=66)\n",
        "\n",
        "print(X_train)"
      ]
    },
    {
      "cell_type": "code",
      "execution_count": 37,
      "metadata": {
        "gather": {
          "logged": 1683506444740
        },
        "jupyter": {
          "outputs_hidden": false,
          "source_hidden": false
        },
        "nteract": {
          "transient": {
            "deleting": false
          }
        }
      },
      "outputs": [
        {
          "name": "stdout",
          "output_type": "stream",
          "text": [
            "model_alpha=0.1, rmse=56.60520331339142\n",
            "0.1 experiment completed\n",
            "model_alpha=0.2, rmse=56.61060264545032\n",
            "0.2 experiment completed\n",
            "model_alpha=0.3, rmse=56.616243245483616\n",
            "0.3 experiment completed\n",
            "model_alpha=0.4, rmse=56.622107088710145\n",
            "0.4 experiment completed\n",
            "model_alpha=0.5, rmse=56.62817734275138\n",
            "0.5 experiment completed\n",
            "model_alpha=0.6, rmse=56.63443828302745\n",
            "0.6 experiment completed\n",
            "model_alpha=0.7, rmse=56.64087521475942\n",
            "0.7 experiment completed\n",
            "model_alpha=0.8, rmse=56.64747440101076\n",
            "0.8 experiment completed\n",
            "model_alpha=0.9, rmse=56.654222996253125\n",
            "0.9 experiment completed\n",
            "model_alpha=1, rmse=56.66110898499056\n",
            "1 experiment completed\n"
          ]
        }
      ],
      "source": [
        "# 모델 훈련, 로그, 모델 파일 관리\n",
        "from sklearn.linear_model import Ridge #모델 훈련 알고리즘. ridge은 a알파 값이 있음. 파라메타로 바꿔줘야해.\n",
        "from sklearn.metrics import mean_squared_error #평가\n",
        "from sklearn.externals import joblib #학습된 파일을 저장할때 pkl파일로 저장되는데 재사용 가능\n",
        "import math\n",
        "\n",
        "alphas = [0.1,0.2,0.3,0.4,0.5,0.6,0.7,0.8,0.9,1]\n",
        "\n",
        "for alpha in alphas:\n",
        "    #실험의 기록\n",
        "    run = experiment.start_logging() #기록1\n",
        "    run.log('alpha_value', alpha)\n",
        "\n",
        "    # print(alpha)\n",
        "    #학습시키기 10번 반복하면서 학습.\n",
        "    model = Ridge(alpha=alpha)\n",
        "    model.fit(X_train, y_train)\n",
        "    #예측 결과보기\n",
        "    y_pred = model.predict(X_test)\n",
        "    # mse = mean_squared_error(y_test, y_pred) #두값을 비교해서 mean_squar에 들어가서 평가하게됨\n",
        "    rmse = math.sqrt(mean_squared_error(y_test, y_pred)) #r = 루트\n",
        "\n",
        "    run.log('rmse', rmse) #기록2  alpha, rmse 각각의 실험의 기록이 남게됨.\n",
        "\n",
        "    # print('model_alpha={0}, mse={1}'.format(alpha, mse))\n",
        "    print('model_alpha={0}, rmse={1}'.format(alpha, rmse))\n",
        "\n",
        "    #모델을 파일로 저장하는 부분\n",
        "    # 실험의 기록 저장\n",
        "    model_name = 'model_alhpa_' + str(alpha) + '.pkl'\n",
        "    # 파일의 경로 설정\n",
        "    filename = 'outputs/' + model_name\n",
        "\n",
        "    joblib.dump(value=model, filename=filename)\n",
        "\n",
        "    #Azure ML Service에 모델 파일을 업로드 하는 부분\n",
        "    run.upload_file(name=model_name, path_or_stream=filename)\n",
        "\n",
        "    run.complete()\n",
        "    print(f'{alpha} experiment completed')"
      ]
    },
    {
      "cell_type": "code",
      "execution_count": 41,
      "metadata": {
        "gather": {
          "logged": 1683506459840
        },
        "jupyter": {
          "outputs_hidden": false,
          "source_hidden": false
        },
        "nteract": {
          "transient": {
            "deleting": false
          }
        }
      },
      "outputs": [
        {
          "data": {
            "text/html": [
              "<table style=\"width:100%\"><tr><th>Name</th><th>Workspace</th><th>Report Page</th><th>Docs Page</th></tr><tr><td>diabetes-experiment</td><td>labuser29ml</td><td><a href=\"https://ml.azure.com/experiments/id/52f1fa46-8ae2-47bb-949d-0a327398f7ab?wsid=/subscriptions/27db5ec6-d206-4028-b5e1-6004dca5eeef/resourcegroups/rg29/workspaces/labuser29ml&amp;tid=5fb256f0-fbf2-40d2-81d5-bac1b32c419d\" target=\"_blank\" rel=\"noopener\">Link to Azure Machine Learning studio</a></td><td><a href=\"https://docs.microsoft.com/en-us/python/api/azureml-core/azureml.core.experiment.Experiment?view=azure-ml-py\" target=\"_blank\" rel=\"noopener\">Link to Documentation</a></td></tr></table>"
            ],
            "text/plain": [
              "Experiment(Name: diabetes-experiment,\n",
              "Workspace: labuser29ml)"
            ]
          },
          "execution_count": 41,
          "metadata": {},
          "output_type": "execute_result"
        }
      ],
      "source": [
        "#실험객체 어디에 있는 지 확인해보기\n",
        "experiment"
      ]
    },
    {
      "cell_type": "code",
      "execution_count": 39,
      "metadata": {
        "gather": {
          "logged": 1683506459184
        },
        "jupyter": {
          "outputs_hidden": false,
          "source_hidden": false
        },
        "nteract": {
          "transient": {
            "deleting": false
          }
        }
      },
      "outputs": [
        {
          "name": "stdout",
          "output_type": "stream",
          "text": [
            "Best run_id:76ddece8-7439-4e25-add6-8ca64871bce5\n",
            "Best run_id_rmse:56.654222996253125\n"
          ]
        }
      ],
      "source": [
        "# Best Model을 탐색 후 다운로드\n",
        "minimum_rmse = None\n",
        "minimum_rmse_runid = None\n",
        "\n",
        "for exp in experiment.get_runs():\n",
        "    # print(exp.get_metrics()['rmse'])\n",
        "    run_metrics = exp.get_metrics() #get_metrics 성능 지표, 로그, 통계 등과 같은 데이터를 추출하여 분석\n",
        "    run_details = exp.get_details()\n",
        "\n",
        "    run_rmse = run_metrics['rmse']\n",
        "    run_id = run_details['runId']\n",
        "\n",
        "    #가장 낮은 rmse값을 가진 실행 ID를 구하는 부분\n",
        "    if minimum_rmse is None:\n",
        "        minimum_rmse = run_rmse\n",
        "        minimum_rmse_runid = run_id\n",
        "    \n",
        "    else:\n",
        "        if run_rmse < minimum_rmse:\n",
        "            minmum_rmse = run_rmse\n",
        "            minimum_rmse_runid = run_id\n",
        "\n",
        "print('Best run_id:' + minimum_rmse_runid)\n",
        "print('Best run_id_rmse:' + str(minimum_rmse))"
      ]
    },
    {
      "cell_type": "code",
      "execution_count": 40,
      "metadata": {
        "gather": {
          "logged": 1683506459588
        },
        "jupyter": {
          "outputs_hidden": false,
          "source_hidden": false
        },
        "nteract": {
          "transient": {
            "deleting": false
          }
        }
      },
      "outputs": [
        {
          "name": "stdout",
          "output_type": "stream",
          "text": [
            "['model_alhpa_0.1.pkl', 'outputs/model_alhpa_0.1.pkl']\n"
          ]
        }
      ],
      "source": [
        "# Best model 다운로드\n",
        "from azureml.core import Run\n",
        "best_run = Run(experiment=experiment, run_id = minimum_rmse_runid)\n",
        "print(best_run.get_file_names())\n",
        "\n",
        "best_run.download_file(name=str(best_run.get_file_names()[0]))"
      ]
    },
    {
      "cell_type": "code",
      "execution_count": 61,
      "metadata": {
        "gather": {
          "logged": 1683510045490
        },
        "jupyter": {
          "outputs_hidden": false,
          "source_hidden": false
        },
        "nteract": {
          "transient": {
            "deleting": false
          }
        }
      },
      "outputs": [
        {
          "name": "stdout",
          "output_type": "stream",
          "text": [
            "Uploading an estimated of 2 files\n",
            "Uploading ./features.csv\n",
            "Uploaded ./features.csv, 1 files out of an estimated total of 2\n",
            "Uploading ./labels.csv\n",
            "Uploaded ./labels.csv, 2 files out of an estimated total of 2\n",
            "Uploaded 2 files\n"
          ]
        },
        {
          "data": {
            "text/plain": [
              "$AZUREML_DATAREFERENCE_aaffd986b4b74deeb325395aea3ea76d"
            ]
          },
          "execution_count": 61,
          "metadata": {},
          "output_type": "execute_result"
        }
      ],
      "source": [
        "#데이터 저장\n",
        "import numpy as np\n",
        "from azureml.core import Dataset\n",
        "\n",
        "np.savetxt('features.csv', X_train, delimiter=',')\n",
        "np.savetxt('labels.csv', y_train, delimiter=',')\n",
        "\n",
        "#데이터스토어 정보 가져오기\n",
        "datastore= ws.get_default_datastore()\n",
        "\n",
        "#데이터 스토어에 데이터 업로드, 저장\n",
        "datastore.upload_files(files=['./features.csv','./labels.csv'],\n",
        "                        target_path='diabetes-experiment/',\n",
        "                        overwrite=True)"
      ]
    },
    {
      "cell_type": "code",
      "execution_count": 62,
      "metadata": {
        "gather": {
          "logged": 1683510046015
        },
        "jupyter": {
          "outputs_hidden": false,
          "source_hidden": false
        },
        "nteract": {
          "transient": {
            "deleting": false
          }
        }
      },
      "outputs": [
        {
          "data": {
            "text/plain": [
              "['.amlignore',\n",
              " '.amlignore.amltmp',\n",
              " '.ipynb_aml_checkpoints',\n",
              " '5_4 Azure ML.ipynb',\n",
              " '5_4 azure ml.ipynb.amltmp',\n",
              " 'AutoMLGeneratedCode',\n",
              " 'DiabetesExp.ipynb',\n",
              " 'diabetesexp.ipynb.amltmp',\n",
              " 'feature.csv',\n",
              " 'features.csv',\n",
              " 'labels.csv',\n",
              " 'model_alhpa_0.1.pkl',\n",
              " 'outputs']"
            ]
          },
          "execution_count": 62,
          "metadata": {},
          "output_type": "execute_result"
        }
      ],
      "source": [
        "import os\n",
        "os.listdir()"
      ]
    },
    {
      "cell_type": "code",
      "execution_count": 64,
      "metadata": {
        "gather": {
          "logged": 1683510078613
        },
        "jupyter": {
          "outputs_hidden": false,
          "source_hidden": false
        },
        "nteract": {
          "transient": {
            "deleting": false
          }
        }
      },
      "outputs": [],
      "source": [
        "feature_dataset = Dataset.Tabular.from_delimited_files(path=[(datastore,'diabetes-experiment/features.csv')])\n",
        "label_dataset = Dataset.Tabular.from_delimited_files(path=[(datastore,'diabetes-experiment/labels.csv')])"
      ]
    },
    {
      "cell_type": "code",
      "execution_count": 55,
      "metadata": {
        "gather": {
          "logged": 1683509593511
        },
        "jupyter": {
          "outputs_hidden": false,
          "source_hidden": false
        },
        "nteract": {
          "transient": {
            "deleting": false
          }
        }
      },
      "outputs": [],
      "source": [
        "import sklearn\n",
        "from azureml.core import Model\n",
        "from azureml.core.resource_configuration import ResourceConfiguration"
      ]
    },
    {
      "cell_type": "code",
      "execution_count": 68,
      "metadata": {
        "gather": {
          "logged": 1683510771434
        },
        "jupyter": {
          "outputs_hidden": false,
          "source_hidden": false
        },
        "nteract": {
          "transient": {
            "deleting": false
          }
        }
      },
      "outputs": [
        {
          "name": "stdout",
          "output_type": "stream",
          "text": [
            "Registering model diabetes-experiment-model\n"
          ]
        }
      ],
      "source": [
        "#시스템에 모델의 등록\n",
        "model = Model.register(workspace=ws,\n",
        "                model_name='diabetes-experiment-model',\n",
        "                model_path= f'./{str(best_run.get_file_names()[0])}',\n",
        "                model_framework=Model.Framework.SCIKITLEARN,\n",
        "                model_framework_version=sklearn.__version__,\n",
        "                sample_input_dataset=feature_dataset,\n",
        "                sample_output_dataset=label_dataset,\n",
        "                resource_configuration=ResourceConfiguration(cpu=1, memory_in_gb=0.5),\n",
        "                description='Ridge regression model to predict diabetes progression',\n",
        "                tags={'area':'diabetes','type':'regression'}\n",
        "                )"
      ]
    },
    {
      "cell_type": "code",
      "execution_count": 69,
      "metadata": {
        "gather": {
          "logged": 1683510897088
        },
        "jupyter": {
          "outputs_hidden": false,
          "source_hidden": false
        },
        "nteract": {
          "transient": {
            "deleting": false
          }
        }
      },
      "outputs": [
        {
          "name": "stdout",
          "output_type": "stream",
          "text": [
            "Model name : diabetes-experiment-model\n",
            "Model version : 1\n"
          ]
        }
      ],
      "source": [
        "print('Model name :', model.name)\n",
        "print('Model version :', model.version)"
      ]
    },
    {
      "cell_type": "code",
      "execution_count": 70,
      "metadata": {
        "gather": {
          "logged": 1683513453586
        },
        "jupyter": {
          "outputs_hidden": false,
          "source_hidden": false
        },
        "nteract": {
          "transient": {
            "deleting": false
          }
        }
      },
      "outputs": [
        {
          "name": "stderr",
          "output_type": "stream",
          "text": [
            "/tmp/ipykernel_64056/72352166.py:4: FutureWarning: azureml.core.model:\n",
            "To leverage new model deployment capabilities, AzureML recommends using CLI/SDK v2 to deploy models as online endpoint, \n",
            "please refer to respective documentations \n",
            "https://docs.microsoft.com/azure/machine-learning/how-to-deploy-managed-online-endpoints /\n",
            "https://docs.microsoft.com/azure/machine-learning/how-to-attach-kubernetes-anywhere \n",
            "For more information on migration, see https://aka.ms/acimoemigration \n",
            "To disable CLI/SDK v1 deprecation warning set AZUREML_LOG_DEPRECATION_WARNING_ENABLED to 'False'\n",
            "  service = Model.deploy(ws, service_name, [model], overwrite=True)\n"
          ]
        },
        {
          "name": "stdout",
          "output_type": "stream",
          "text": [
            "Tips: You can try get_logs(): https://aka.ms/debugimage#dockerlog or local deployment: https://aka.ms/debugimage#debug-locally to debug if deployment takes longer than 10 minutes.\n",
            "Running\n",
            "2023-05-08 02:15:32+00:00 Creating Container Registry if not exists..\n",
            "2023-05-08 02:25:33+00:00 Registering the environment.\n",
            "2023-05-08 02:25:34+00:00 Uploading autogenerated assets for no-code-deployment.\n",
            "2023-05-08 02:25:36+00:00 Building image..\n",
            "2023-05-08 02:35:49+00:00 Generating deployment configuration.\n",
            "2023-05-08 02:35:50+00:00 Submitting deployment to compute..\n",
            "2023-05-08 02:35:56+00:00 Checking the status of deployment diabetes-service..\n",
            "2023-05-08 02:37:28+00:00 Checking the status of inference endpoint diabetes-service.\n",
            "Succeeded\n",
            "ACI service creation operation finished, operation \"Succeeded\"\n"
          ]
        }
      ],
      "source": [
        "#모델의 배포\n",
        "service_name = 'diabetes-service'\n",
        "\n",
        "service = Model.deploy(ws, service_name, [model], overwrite=True)\n",
        "service.wait_for_deployment(show_output=True)"
      ]
    },
    {
      "cell_type": "code",
      "execution_count": 71,
      "metadata": {
        "gather": {
          "logged": 1683513956484
        },
        "jupyter": {
          "outputs_hidden": false,
          "source_hidden": false
        },
        "nteract": {
          "transient": {
            "deleting": false
          }
        }
      },
      "outputs": [
        {
          "name": "stdout",
          "output_type": "stream",
          "text": [
            "{'predict': [204.9450693706217, 74.4641225933554]}\n"
          ]
        }
      ],
      "source": [
        "#json 데이터 만들기(테스트는 json을 사용하기 때문) - 서비스 안에서 사용할 \n",
        "import json\n",
        " \n",
        "input_payload = json.dumps({\n",
        "    'data': X_train[0:2].values.tolist(),\n",
        "    'method': 'predict'\n",
        "})\n",
        "# tolist스타일로 만들고 predict해\n",
        "\n",
        "output = service.run(input_payload)\n",
        " \n",
        "print(output)"
      ]
    },
    {
      "cell_type": "code",
      "execution_count": null,
      "metadata": {
        "jupyter": {
          "outputs_hidden": false,
          "source_hidden": false
        },
        "nteract": {
          "transient": {
            "deleting": false
          }
        }
      },
      "outputs": [],
      "source": []
    }
  ],
  "metadata": {
    "kernel_info": {
      "name": "python38-azureml"
    },
    "kernelspec": {
      "display_name": "Python 3.8 - AzureML",
      "language": "python",
      "name": "python38-azureml"
    },
    "language_info": {
      "codemirror_mode": {
        "name": "ipython",
        "version": 3
      },
      "file_extension": ".py",
      "mimetype": "text/x-python",
      "name": "python",
      "nbconvert_exporter": "python",
      "pygments_lexer": "ipython3",
      "version": "3.8.5"
    },
    "microsoft": {
      "host": {
        "AzureML": {
          "notebookHasBeenCompleted": true
        }
      },
      "ms_spell_check": {
        "ms_spell_check_language": "en"
      }
    },
    "nteract": {
      "version": "nteract-front-end@1.0.0"
    }
  },
  "nbformat": 4,
  "nbformat_minor": 2
}
