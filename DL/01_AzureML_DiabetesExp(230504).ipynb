{
  "cells": [
    {
      "cell_type": "markdown",
      "metadata": {
        "id": "view-in-github",
        "colab_type": "text"
      },
      "source": [
        "<a href=\"https://colab.research.google.com/github/GODHYEONJU/MS-AI-School-/blob/main/5_4_DiabetesExp.ipynb\" target=\"_parent\"><img src=\"https://colab.research.google.com/assets/colab-badge.svg\" alt=\"Open In Colab\"/></a>"
      ]
    },
    {
      "cell_type": "code",
      "source": [
        "from azureml.core import Workspace\n",
        "ws = Workspace.from_config()\n",
        "print('Workspace name:'+ ws.name,\n",
        "        'Azure region:'+ ws.location,\n",
        "        'Subscription ID:' +ws.subscription_id,\n",
        "        'Resource group:' + ws.resource_group)\n"
      ],
      "outputs": [
        {
          "output_type": "stream",
          "name": "stdout",
          "text": "Workspace name:labuser29ml Azure region:koreacentral Subscription ID:27db5ec6-d206-4028-b5e1-6004dca5eeef Resource group:rg29\n"
        }
      ],
      "execution_count": null,
      "metadata": {
        "gather": {
          "logged": 1683180879252
        },
        "id": "8-T8sGeM-Vp6",
        "outputId": "e2199c74-1a71-4841-8fd1-7227101415af"
      }
    },
    {
      "cell_type": "code",
      "source": [
        "#실험공간을 준비\n",
        "from azureml.core import Experiment\n",
        "experiment = Experiment(workspace=ws, name='diabetes-experiment')"
      ],
      "outputs": [],
      "execution_count": null,
      "metadata": {
        "jupyter": {
          "source_hidden": false,
          "outputs_hidden": false
        },
        "nteract": {
          "transient": {
            "deleting": false
          }
        },
        "gather": {
          "logged": 1683181033761
        },
        "id": "aDzojQ4I-VqC"
      }
    },
    {
      "cell_type": "code",
      "source": [
        "# 데이터를 준비\n",
        "from azureml.opendatasets import Diabetes\n",
        "from sklearn.model_selection import train_test_split #데이터 자르기\n",
        "\n",
        "x_df=Diabetes.get_tabular_dataset().to_pandas_dataframe().dropna() #dropna() 중간에 null 값이나 없는 값들 drop시켜준다.\n",
        "y_df = x_df.pop('Y') #pop 값을 꺼내서 저장해준다.\n",
        "\n",
        "X_train, X_test, y_train, y_test = train_test_split(x_df, y_df, test_size=0.2, random_state=66)\n",
        "\n",
        "print(X_train)"
      ],
      "outputs": [
        {
          "output_type": "stream",
          "name": "stdout",
          "text": "     AGE  SEX   BMI     BP   S1     S2    S3    S4      S5   S6\n440   36    1  30.0   95.0  201  125.2  42.0  4.79  5.1299   85\n389   47    2  26.5   70.0  181  104.8  63.0  3.00  4.1897   70\n5     23    1  22.6   89.0  139   64.8  61.0  2.00  4.1897   68\n289   28    2  31.5   83.0  228  149.4  38.0  6.00  5.3132   83\n101   53    2  22.2  113.0  197  115.2  67.0  3.00  4.3041  100\n..   ...  ...   ...    ...  ...    ...   ...   ...     ...  ...\n122   62    2  33.9  101.0  221  156.4  35.0  6.00  4.9972  103\n51    65    2  27.9  103.0  159   96.8  42.0  4.00  4.6151   86\n119   53    1  22.0   94.0  175   88.0  59.0  3.00  4.9416   98\n316   53    2  27.7   95.0  190  101.8  41.0  5.00  5.4638  101\n20    35    1  21.1   82.0  156   87.8  50.0  3.00  4.5109   95\n\n[353 rows x 10 columns]\n"
        }
      ],
      "execution_count": null,
      "metadata": {
        "jupyter": {
          "source_hidden": false,
          "outputs_hidden": false
        },
        "nteract": {
          "transient": {
            "deleting": false
          }
        },
        "gather": {
          "logged": 1683182192559
        },
        "id": "ptRtfTEK-VqD",
        "outputId": "a80f72e8-d1d7-42b5-bb25-8fbc216468bd"
      }
    },
    {
      "cell_type": "code",
      "source": [
        "# 모델 훈련, 로그, 모델 파일 관리\n",
        "from sklearn.linear_model import Ridge #모델 훈련 알고리즘. ridge은 a알파 값이 있음. 파라메타로 바꿔줘야해.\n",
        "from sklearn.metrics import mean_squared_error #평가\n",
        "from sklearn.externals import joblib #학습된 파일을 저장할때 pkl파일로 저장되는데 재사용 가능\n",
        "import math\n",
        "\n",
        "alphas = [0.1,0.2,0.3,0.4,0.5,0.6,0.7,0.8,0.9,1]\n",
        "\n",
        "for alpha in alphas:\n",
        "    #실험의 기록\n",
        "    run = experiment.start_logging() #기록1\n",
        "    run.log('alpha_value', alpha)\n",
        "\n",
        "    # print(alpha)\n",
        "    #학습시키기 10번 반복하면서 학습.\n",
        "    model = Ridge(alpha=alpha)\n",
        "    model.fit(X_train, y_train)\n",
        "    #예측 결과보기\n",
        "    y_pred = model.predict(X_test)\n",
        "    # mse = mean_squared_error(y_test, y_pred) #두값을 비교해서 mean_squar에 들어가서 평가하게됨\n",
        "    rmse = math.sqrt(mean_squared_error(y_test, y_pred)) #r = 루트\n",
        "\n",
        "    run.log('rmse', rmse) #기록2  alpha, rmse 각각의 실험의 기록이 남게됨.\n",
        "\n",
        "    # print('model_alpha={0}, mse={1}'.format(alpha, mse))\n",
        "    print('model_alpha={0}, rmse={1}'.format(alpha, rmse))\n",
        "\n",
        "    #모델을 파일로 저장하는 부분\n",
        "    # 실험의 기록 저장\n",
        "    model_name = 'model_alhpa_' + str(alpha) + '.pkl'\n",
        "    # 파일의 경로 설정\n",
        "    filename = 'outputs/' + model_name\n",
        "\n",
        "    joblib.dump(value=model, filename=filename)\n",
        "\n",
        "    #Azure ML Service에 모델 파일을 업로드 하는 부분\n",
        "    run.upload_file(name=model_name, path_or_stream=filename)\n",
        "\n",
        "    run.complete()\n",
        "    print(f'{alpha} experiment completed')"
      ],
      "outputs": [
        {
          "output_type": "stream",
          "name": "stdout",
          "text": "model_alpha=0.1, rmse=56.60520331339142\n0.1 experiment completed\nmodel_alpha=0.2, rmse=56.61060264545032\n0.2 experiment completed\nmodel_alpha=0.3, rmse=56.616243245483616\n0.3 experiment completed\nmodel_alpha=0.4, rmse=56.622107088710145\n0.4 experiment completed\nmodel_alpha=0.5, rmse=56.62817734275138\n0.5 experiment completed\nmodel_alpha=0.6, rmse=56.63443828302745\n0.6 experiment completed\nmodel_alpha=0.7, rmse=56.64087521475942\n0.7 experiment completed\nmodel_alpha=0.8, rmse=56.64747440101076\n0.8 experiment completed\nmodel_alpha=0.9, rmse=56.654222996253125\n0.9 experiment completed\nmodel_alpha=1, rmse=56.66110898499056\n1 experiment completed\n"
        }
      ],
      "execution_count": null,
      "metadata": {
        "jupyter": {
          "source_hidden": false,
          "outputs_hidden": false
        },
        "nteract": {
          "transient": {
            "deleting": false
          }
        },
        "gather": {
          "logged": 1683186507251
        },
        "id": "LXQ5XD0I-VqF",
        "outputId": "6e891ac2-9494-4394-aa5d-2438727e139e"
      }
    },
    {
      "cell_type": "code",
      "source": [
        "#실험객체 어디에 있는 지 확인해보기\n",
        "experiment"
      ],
      "outputs": [
        {
          "output_type": "execute_result",
          "execution_count": 25,
          "data": {
            "text/plain": "Experiment(Name: diabetes-experiment,\nWorkspace: labuser29ml)",
            "text/html": "<table style=\"width:100%\"><tr><th>Name</th><th>Workspace</th><th>Report Page</th><th>Docs Page</th></tr><tr><td>diabetes-experiment</td><td>labuser29ml</td><td><a href=\"https://ml.azure.com/experiments/id/52f1fa46-8ae2-47bb-949d-0a327398f7ab?wsid=/subscriptions/27db5ec6-d206-4028-b5e1-6004dca5eeef/resourcegroups/rg29/workspaces/labuser29ml&amp;tid=5fb256f0-fbf2-40d2-81d5-bac1b32c419d\" target=\"_blank\" rel=\"noopener\">Link to Azure Machine Learning studio</a></td><td><a href=\"https://docs.microsoft.com/en-us/python/api/azureml-core/azureml.core.experiment.Experiment?view=azure-ml-py\" target=\"_blank\" rel=\"noopener\">Link to Documentation</a></td></tr></table>"
          },
          "metadata": {}
        }
      ],
      "execution_count": null,
      "metadata": {
        "jupyter": {
          "source_hidden": false,
          "outputs_hidden": false
        },
        "nteract": {
          "transient": {
            "deleting": false
          }
        },
        "gather": {
          "logged": 1683186342387
        },
        "id": "Kh8ZeqiX-VqG",
        "outputId": "b3730f92-3f0a-4ebb-90a7-1fee410b16b1"
      }
    },
    {
      "cell_type": "code",
      "source": [
        "# Best Model을 탐색 후 다운로드\n",
        "minimum_rmse = None\n",
        "minimum_rmse_runid = None\n",
        "\n",
        "for exp in experiment.get_runs():\n",
        "    # print(exp.get_metrics()['rmse'])\n",
        "    run_metrics = exp.get_metrics() #get_metrics 성능 지표, 로그, 통계 등과 같은 데이터를 추출하여 분석\n",
        "    run_details = exp.get_details()\n",
        "\n",
        "    run_rmse = run_metrics['rmse']\n",
        "    run_id = run_details['runId']\n",
        "\n",
        "    #가장 낮은 rmse값을 가진 실행 ID를 구하는 부분\n",
        "    if minimum_rmse is None:\n",
        "        minimum_rmse = run_rmse\n",
        "        minimum_rmse_runid = run_id\n",
        "    \n",
        "    else:\n",
        "        if run_rmse < minimum_rmse:\n",
        "            minmum_rmse = run_rmse\n",
        "            minimum_rmse_runid = run_id\n",
        "\n",
        "print('Best run_id:' + minimum_rmse_runid)\n",
        "print('Best run_id_rmse:' + str(minimum_rmse))"
      ],
      "outputs": [
        {
          "output_type": "stream",
          "name": "stdout",
          "text": "Best run_id:76ddece8-7439-4e25-add6-8ca64871bce5\nBest run_id_rmse:56.66110898499056\n"
        }
      ],
      "execution_count": null,
      "metadata": {
        "jupyter": {
          "source_hidden": false,
          "outputs_hidden": false
        },
        "nteract": {
          "transient": {
            "deleting": false
          }
        },
        "gather": {
          "logged": 1683188113342
        },
        "id": "Jgvu4pw6-VqI",
        "outputId": "1d4582b8-e219-4fb1-bb60-bb9e4054a185"
      }
    },
    {
      "cell_type": "code",
      "source": [
        "# Best model 다운로드\n",
        "from azureml.core import Run\n",
        "best_run = Run(experiment=experiment, run_id = minimum_rmse_runid)\n",
        "print(best_run.get_file_names())\n",
        "\n",
        "best_run.download_file(name=str(best_run.get_file_names()[0]))"
      ],
      "outputs": [
        {
          "output_type": "stream",
          "name": "stdout",
          "text": "['model_alhpa_0.1.pkl', 'outputs/model_alhpa_0.1.pkl']\n"
        }
      ],
      "execution_count": null,
      "metadata": {
        "jupyter": {
          "source_hidden": false,
          "outputs_hidden": false
        },
        "nteract": {
          "transient": {
            "deleting": false
          }
        },
        "gather": {
          "logged": 1683188505393
        },
        "id": "XQUVhZZH-VqK",
        "outputId": "b5698b1c-9522-4dac-c576-fa950efc3e54"
      }
    },
    {
      "cell_type": "code",
      "source": [],
      "outputs": [],
      "execution_count": null,
      "metadata": {
        "jupyter": {
          "source_hidden": false,
          "outputs_hidden": false
        },
        "nteract": {
          "transient": {
            "deleting": false
          }
        },
        "id": "_JD_zqR_-VqL"
      }
    }
  ],
  "metadata": {
    "kernelspec": {
      "name": "python38-azureml",
      "language": "python",
      "display_name": "Python 3.8 - AzureML"
    },
    "language_info": {
      "name": "python",
      "version": "3.8.5",
      "mimetype": "text/x-python",
      "codemirror_mode": {
        "name": "ipython",
        "version": 3
      },
      "pygments_lexer": "ipython3",
      "nbconvert_exporter": "python",
      "file_extension": ".py"
    },
    "microsoft": {
      "ms_spell_check": {
        "ms_spell_check_language": "en"
      },
      "host": {
        "AzureML": {
          "notebookHasBeenCompleted": true
        }
      }
    },
    "kernel_info": {
      "name": "python38-azureml"
    },
    "nteract": {
      "version": "nteract-front-end@1.0.0"
    },
    "colab": {
      "provenance": [],
      "include_colab_link": true
    }
  },
  "nbformat": 4,
  "nbformat_minor": 0
}
