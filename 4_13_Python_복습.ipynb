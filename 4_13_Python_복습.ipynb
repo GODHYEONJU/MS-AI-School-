{
  "nbformat": 4,
  "nbformat_minor": 0,
  "metadata": {
    "colab": {
      "provenance": [],
      "authorship_tag": "ABX9TyP/0gV1AfxjXtZNqV0EhZWu",
      "include_colab_link": true
    },
    "kernelspec": {
      "name": "python3",
      "display_name": "Python 3"
    },
    "language_info": {
      "name": "python"
    }
  },
  "cells": [
    {
      "cell_type": "markdown",
      "metadata": {
        "id": "view-in-github",
        "colab_type": "text"
      },
      "source": [
        "<a href=\"https://colab.research.google.com/github/GODHYEONJU/MS-AI-School-/blob/main/4_13_Python_%EB%B3%B5%EC%8A%B5.ipynb\" target=\"_parent\"><img src=\"https://colab.research.google.com/assets/colab-badge.svg\" alt=\"Open In Colab\"/></a>"
      ]
    },
    {
      "cell_type": "code",
      "execution_count": null,
      "metadata": {
        "colab": {
          "base_uri": "https://localhost:8080/"
        },
        "id": "-KrZp4EeSnoH",
        "outputId": "9025f7d3-db83-437d-fadf-7357bc744be1"
      },
      "outputs": [
        {
          "output_type": "stream",
          "name": "stdout",
          "text": [
            "0,1,2,3,4,5 6 숫자 중 한 개를 고르세요.\n",
            "None3\n",
            "0\n",
            "1\n",
            "2\n",
            "3\n"
          ]
        }
      ],
      "source": [
        "#break\n",
        "a = [0,1,2,3,4,5]\n",
        "b= int(input(print(f\"0,1,2,3,4,5 6 숫자 중 한 개를 고르세요.\")))\n",
        "for i in a:\n",
        "  if i > b:\n",
        "    break\n",
        "  print(i)"
      ]
    },
    {
      "cell_type": "code",
      "source": [
        "#continue\n",
        "a = [0,1,2,3,4,5]\n",
        "b= int(input(print(f\"0,1,2,3,4,5 6 중 생략할 숫자를 한 개를 고르세요.\")))\n",
        "for i in a:\n",
        "  if i == b:\n",
        "    continue\n",
        "  print(i)"
      ],
      "metadata": {
        "colab": {
          "base_uri": "https://localhost:8080/"
        },
        "id": "coZe_P5lVvOd",
        "outputId": "9491b010-7ce4-4076-d135-8b7c16e3602b"
      },
      "execution_count": null,
      "outputs": [
        {
          "output_type": "stream",
          "name": "stdout",
          "text": [
            "0,1,2,3,4,5 6 중 생략할 숫자를 한 개를 고르세요.\n",
            "None3\n",
            "0\n",
            "1\n",
            "2\n",
            "4\n",
            "5\n"
          ]
        }
      ]
    },
    {
      "cell_type": "code",
      "source": [
        "#range 구구단\n",
        "num = int(input(print(\"출력한 구구단의 단수는?\")))\n",
        "print(f\"{num}단\")\n",
        "for i in range(1,10):\n",
        "    print(f\"{num} * {i} = {num*i}\")\n"
      ],
      "metadata": {
        "colab": {
          "base_uri": "https://localhost:8080/"
        },
        "id": "_vDtG1xMXmmj",
        "outputId": "9c7d2f2f-dd39-4280-acdf-c26f82a927eb"
      },
      "execution_count": null,
      "outputs": [
        {
          "output_type": "stream",
          "name": "stdout",
          "text": [
            "출력한 구구단의 단수는?\n",
            "None3\n",
            "3단\n",
            "3 * 1 = 3\n",
            "3 * 2 = 6\n",
            "3 * 3 = 9\n",
            "3 * 4 = 12\n",
            "3 * 5 = 15\n",
            "3 * 6 = 18\n",
            "3 * 7 = 21\n",
            "3 * 8 = 24\n",
            "3 * 9 = 27\n"
          ]
        }
      ]
    },
    {
      "cell_type": "code",
      "source": [
        "#class\n",
        "class Zoo:\n",
        "  Animal = ''\n",
        "  Name = ''\n",
        "  age = 0\n",
        "  def __init__(self,animal,name,age):\n",
        "    self.Animal = animal\n",
        "    self.Name = name\n",
        "    self.Age = age\n",
        "  def __del__(self) :\n",
        "     print(f\"팔려나갔습니다.\")\n",
        "  def PrintList(self) :\n",
        "    print(f\" 종  : {self.Animal}\\n이름 : {self.Name}\\n나이 : {self.Age}살\" )\n"
      ],
      "metadata": {
        "id": "en73VX3gi4zu"
      },
      "execution_count": null,
      "outputs": []
    },
    {
      "cell_type": "code",
      "source": [
        "z = Zoo('Lion','라이언', 5)\n",
        "z.PrintList()"
      ],
      "metadata": {
        "colab": {
          "base_uri": "https://localhost:8080/"
        },
        "id": "p3bRr4qxppJC",
        "outputId": "de063829-b308-4f24-c592-569edffc8704"
      },
      "execution_count": null,
      "outputs": [
        {
          "output_type": "stream",
          "name": "stdout",
          "text": [
            " 종  : Lion\n",
            "이름 : 라이언\n",
            "나이 : 5살\n"
          ]
        }
      ]
    },
    {
      "cell_type": "code",
      "source": [
        "from re import S\n",
        "#다중상속\n",
        "class Move :\n",
        "  def Go(self) :\n",
        "     print('Go : W')\n",
        "  def Back(self) :\n",
        "    print('Back : S')\n",
        "  def Right(self) :\n",
        "    print('Right : D')\n",
        "  def Left(self):\n",
        "    print('Left : A')\n",
        "\n",
        "class Skill :\n",
        "  def Jump(self) :\n",
        "   print('Jump : Space')\n",
        "  def Attack(self):\n",
        "    print(\"Attack : Mouse Click\")\n",
        "\n",
        "class Tutorial(Move, Skill) :\n",
        "  def Play(self):\n",
        "    print('Game Start')"
      ],
      "metadata": {
        "id": "k7MREdmusSdx"
      },
      "execution_count": null,
      "outputs": []
    },
    {
      "cell_type": "code",
      "source": [
        "t = Tutorial()\n",
        "t.Go()\n",
        "t.Back()\n",
        "t.Right()\n",
        "t.Left()\n",
        "t.Jump()\n",
        "t.Attack()\n",
        "print()\n",
        "print(\"DO YOU WANT GAME START?\")\n",
        "t.Play()"
      ],
      "metadata": {
        "colab": {
          "base_uri": "https://localhost:8080/"
        },
        "id": "EAA3JOePuL1K",
        "outputId": "241f0d06-f8e5-4d95-f0ec-fac4b2385ee2"
      },
      "execution_count": null,
      "outputs": [
        {
          "output_type": "stream",
          "name": "stdout",
          "text": [
            "Go : W\n",
            "Back : S\n",
            "Right : D\n",
            "Left : A\n",
            "Jump : Space\n",
            "Attack : Mouse Click\n",
            "\n",
            "DO YOU WANT GAME START?\n",
            "Game Start\n"
          ]
        }
      ]
    }
  ]
}